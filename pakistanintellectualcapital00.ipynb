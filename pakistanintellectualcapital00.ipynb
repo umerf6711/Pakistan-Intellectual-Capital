{
 "cells": [
  {
   "cell_type": "code",
   "execution_count": 1,
   "id": "130257ac",
   "metadata": {
    "_cell_guid": "b1076dfc-b9ad-4769-8c92-a6c4dae69d19",
    "_uuid": "8f2839f25d086af736a60e9eeb907d3b93b6e0e5",
    "execution": {
     "iopub.execute_input": "2023-07-12T09:33:47.990744Z",
     "iopub.status.busy": "2023-07-12T09:33:47.990109Z",
     "iopub.status.idle": "2023-07-12T09:33:48.005039Z",
     "shell.execute_reply": "2023-07-12T09:33:48.004190Z"
    },
    "papermill": {
     "duration": 0.033207,
     "end_time": "2023-07-12T09:33:48.008730",
     "exception": false,
     "start_time": "2023-07-12T09:33:47.975523",
     "status": "completed"
    },
    "tags": []
   },
   "outputs": [
    {
     "name": "stdout",
     "output_type": "stream",
     "text": [
      "/kaggle/input/pakistanintellectualcapitalcs/Pakistan Intellectual Capital - Computer Science - Ver 2.csv\n",
      "/kaggle/input/pakistanintellectualcapitalcs/Pakistan Intellectual Capital - Computer Science - Ver 1.csv\n"
     ]
    }
   ],
   "source": [
    "# This Python 3 environment comes with many helpful analytics libraries installed\n",
    "# It is defined by the kaggle/python Docker image: https://github.com/kaggle/docker-python\n",
    "# For example, here's several helpful packages to load\n",
    "\n",
    "import numpy as np # linear algebra\n",
    "import pandas as pd # data processing, CSV file I/O (e.g. pd.read_csv)\n",
    "\n",
    "# Input data files are available in the read-only \"../input/\" directory\n",
    "# For example, running this (by clicking run or pressing Shift+Enter) will list all files under the input directory\n",
    "\n",
    "import os\n",
    "for dirname, _, filenames in os.walk('/kaggle/input'):\n",
    "    for filename in filenames:\n",
    "        print(os.path.join(dirname, filename))\n",
    "\n",
    "# You can write up to 20GB to the current directory (/kaggle/working/) that gets preserved as output when you create a version using \"Save & Run All\" \n",
    "# You can also write temporary files to /kaggle/temp/, but they won't be saved outside of the current session"
   ]
  },
  {
   "cell_type": "markdown",
   "id": "3d783d1c",
   "metadata": {
    "papermill": {
     "duration": 0.01217,
     "end_time": "2023-07-12T09:33:48.033125",
     "exception": false,
     "start_time": "2023-07-12T09:33:48.020955",
     "status": "completed"
    },
    "tags": []
   },
   "source": [
    "# Task to Perform\n",
    "> 1. Loading Files\n",
    "> 2. Data Preprocessing\n",
    "> 3. Exploratory Data Analysis\n"
   ]
  },
  {
   "cell_type": "markdown",
   "id": "26082227",
   "metadata": {
    "papermill": {
     "duration": 0.01153,
     "end_time": "2023-07-12T09:33:48.056644",
     "exception": false,
     "start_time": "2023-07-12T09:33:48.045114",
     "status": "completed"
    },
    "tags": []
   },
   "source": []
  },
  {
   "cell_type": "markdown",
   "id": "c95561df",
   "metadata": {
    "papermill": {
     "duration": 0.012021,
     "end_time": "2023-07-12T09:33:48.080518",
     "exception": false,
     "start_time": "2023-07-12T09:33:48.068497",
     "status": "completed"
    },
    "tags": []
   },
   "source": [
    "# Importing Libraries"
   ]
  },
  {
   "cell_type": "code",
   "execution_count": 2,
   "id": "0cd738a5",
   "metadata": {
    "execution": {
     "iopub.execute_input": "2023-07-12T09:33:48.106351Z",
     "iopub.status.busy": "2023-07-12T09:33:48.105901Z",
     "iopub.status.idle": "2023-07-12T09:33:49.695911Z",
     "shell.execute_reply": "2023-07-12T09:33:49.694483Z"
    },
    "papermill": {
     "duration": 1.605858,
     "end_time": "2023-07-12T09:33:49.698498",
     "exception": false,
     "start_time": "2023-07-12T09:33:48.092640",
     "status": "completed"
    },
    "tags": []
   },
   "outputs": [],
   "source": [
    "import numpy as np\n",
    "import pandas as pd\n",
    "import matplotlib.pyplot as plt \n",
    "import seaborn as sns\n",
    "import datetime\n"
   ]
  },
  {
   "cell_type": "markdown",
   "id": "ac20be5b",
   "metadata": {
    "papermill": {
     "duration": 0.011595,
     "end_time": "2023-07-12T09:33:49.722189",
     "exception": false,
     "start_time": "2023-07-12T09:33:49.710594",
     "status": "completed"
    },
    "tags": []
   },
   "source": [
    "# Loading File"
   ]
  },
  {
   "cell_type": "code",
   "execution_count": 3,
   "id": "269380dd",
   "metadata": {
    "execution": {
     "iopub.execute_input": "2023-07-12T09:33:49.748360Z",
     "iopub.status.busy": "2023-07-12T09:33:49.747923Z",
     "iopub.status.idle": "2023-07-12T09:33:49.790448Z",
     "shell.execute_reply": "2023-07-12T09:33:49.789177Z"
    },
    "papermill": {
     "duration": 0.058815,
     "end_time": "2023-07-12T09:33:49.792940",
     "exception": false,
     "start_time": "2023-07-12T09:33:49.734125",
     "status": "completed"
    },
    "tags": []
   },
   "outputs": [],
   "source": [
    "df = pd.read_csv('/kaggle/input/pakistanintellectualcapitalcs/Pakistan Intellectual Capital - Computer Science - Ver 1.csv',encoding='latin10')"
   ]
  },
  {
   "cell_type": "code",
   "execution_count": 4,
   "id": "c18c5ce9",
   "metadata": {
    "execution": {
     "iopub.execute_input": "2023-07-12T09:33:49.819657Z",
     "iopub.status.busy": "2023-07-12T09:33:49.819158Z",
     "iopub.status.idle": "2023-07-12T09:33:49.853097Z",
     "shell.execute_reply": "2023-07-12T09:33:49.851953Z"
    },
    "papermill": {
     "duration": 0.050623,
     "end_time": "2023-07-12T09:33:49.855602",
     "exception": false,
     "start_time": "2023-07-12T09:33:49.804979",
     "status": "completed"
    },
    "tags": []
   },
   "outputs": [
    {
     "name": "stdout",
     "output_type": "stream",
     "text": [
      "<class 'pandas.core.frame.DataFrame'>\n",
      "RangeIndex: 1981 entries, 0 to 1980\n",
      "Data columns (total 12 columns):\n",
      " #   Column                                     Non-Null Count  Dtype  \n",
      "---  ------                                     --------------  -----  \n",
      " 0   S#                                         1981 non-null   int64  \n",
      " 1   Teacher Name                               1981 non-null   object \n",
      " 2   University Currently Teaching              1981 non-null   object \n",
      " 3   Department                                 1981 non-null   object \n",
      " 4   Province University Located                1981 non-null   object \n",
      " 5   Designation                                1918 non-null   object \n",
      " 6   Terminal Degree                            1440 non-null   object \n",
      " 7   Graduated from                             1142 non-null   object \n",
      " 8   Country                                    1200 non-null   object \n",
      " 9   Year                                       499 non-null    float64\n",
      " 10  Area of Specialization/Research Interests  750 non-null    object \n",
      " 11  Other Information                          163 non-null    object \n",
      "dtypes: float64(1), int64(1), object(10)\n",
      "memory usage: 185.8+ KB\n"
     ]
    }
   ],
   "source": [
    "df.info()"
   ]
  },
  {
   "cell_type": "code",
   "execution_count": 5,
   "id": "db14fe48",
   "metadata": {
    "execution": {
     "iopub.execute_input": "2023-07-12T09:33:49.882247Z",
     "iopub.status.busy": "2023-07-12T09:33:49.881574Z",
     "iopub.status.idle": "2023-07-12T09:33:49.895135Z",
     "shell.execute_reply": "2023-07-12T09:33:49.893703Z"
    },
    "papermill": {
     "duration": 0.029653,
     "end_time": "2023-07-12T09:33:49.897612",
     "exception": false,
     "start_time": "2023-07-12T09:33:49.867959",
     "status": "completed"
    },
    "tags": []
   },
   "outputs": [
    {
     "data": {
      "text/plain": [
       "S#                                              0\n",
       "Teacher Name                                    0\n",
       "University Currently Teaching                   0\n",
       "Department                                      0\n",
       "Province University Located                     0\n",
       "Designation                                    63\n",
       "Terminal Degree                               541\n",
       "Graduated from                                839\n",
       "Country                                       781\n",
       "Year                                         1482\n",
       "Area of Specialization/Research Interests    1231\n",
       "Other Information                            1818\n",
       "dtype: int64"
      ]
     },
     "execution_count": 5,
     "metadata": {},
     "output_type": "execute_result"
    }
   ],
   "source": [
    "df.isnull().sum()"
   ]
  },
  {
   "cell_type": "code",
   "execution_count": 6,
   "id": "7cb1e815",
   "metadata": {
    "execution": {
     "iopub.execute_input": "2023-07-12T09:33:49.924660Z",
     "iopub.status.busy": "2023-07-12T09:33:49.924098Z",
     "iopub.status.idle": "2023-07-12T09:33:49.955798Z",
     "shell.execute_reply": "2023-07-12T09:33:49.954539Z"
    },
    "papermill": {
     "duration": 0.047988,
     "end_time": "2023-07-12T09:33:49.958292",
     "exception": false,
     "start_time": "2023-07-12T09:33:49.910304",
     "status": "completed"
    },
    "tags": []
   },
   "outputs": [
    {
     "data": {
      "text/html": [
       "<div>\n",
       "<style scoped>\n",
       "    .dataframe tbody tr th:only-of-type {\n",
       "        vertical-align: middle;\n",
       "    }\n",
       "\n",
       "    .dataframe tbody tr th {\n",
       "        vertical-align: top;\n",
       "    }\n",
       "\n",
       "    .dataframe thead th {\n",
       "        text-align: right;\n",
       "    }\n",
       "</style>\n",
       "<table border=\"1\" class=\"dataframe\">\n",
       "  <thead>\n",
       "    <tr style=\"text-align: right;\">\n",
       "      <th></th>\n",
       "      <th>S#</th>\n",
       "      <th>Teacher Name</th>\n",
       "      <th>University Currently Teaching</th>\n",
       "      <th>Department</th>\n",
       "      <th>Province University Located</th>\n",
       "      <th>Designation</th>\n",
       "      <th>Terminal Degree</th>\n",
       "      <th>Graduated from</th>\n",
       "      <th>Country</th>\n",
       "      <th>Year</th>\n",
       "      <th>Area of Specialization/Research Interests</th>\n",
       "      <th>Other Information</th>\n",
       "    </tr>\n",
       "  </thead>\n",
       "  <tbody>\n",
       "    <tr>\n",
       "      <th>0</th>\n",
       "      <td>1</td>\n",
       "      <td>Dr. Ihsan Ullah</td>\n",
       "      <td>University of Balochistan</td>\n",
       "      <td>Computer Science &amp; IT</td>\n",
       "      <td>Balochistan</td>\n",
       "      <td>Assistant Professor</td>\n",
       "      <td>PhD</td>\n",
       "      <td>NaN</td>\n",
       "      <td>France</td>\n",
       "      <td>NaN</td>\n",
       "      <td>P2P Networks, Telecommunication Systems</td>\n",
       "      <td>NaN</td>\n",
       "    </tr>\n",
       "    <tr>\n",
       "      <th>1</th>\n",
       "      <td>2</td>\n",
       "      <td>Dr. Atiq Ahmed</td>\n",
       "      <td>University of Balochistan</td>\n",
       "      <td>Computer Science &amp; IT</td>\n",
       "      <td>Balochistan</td>\n",
       "      <td>Associate Professor</td>\n",
       "      <td>PhD</td>\n",
       "      <td>NaN</td>\n",
       "      <td>France</td>\n",
       "      <td>NaN</td>\n",
       "      <td>Wireless Networks, Telecommunication Systems, ...</td>\n",
       "      <td>NaN</td>\n",
       "    </tr>\n",
       "    <tr>\n",
       "      <th>2</th>\n",
       "      <td>3</td>\n",
       "      <td>Dr. Abdul Basit</td>\n",
       "      <td>University of Balochistan</td>\n",
       "      <td>Computer Science &amp; IT</td>\n",
       "      <td>Balochistan</td>\n",
       "      <td>Assistant Professor</td>\n",
       "      <td>PhD</td>\n",
       "      <td>Asian Institute of Technology</td>\n",
       "      <td>Thailand</td>\n",
       "      <td>NaN</td>\n",
       "      <td>Software Engineering &amp; DBMS</td>\n",
       "      <td>NaN</td>\n",
       "    </tr>\n",
       "    <tr>\n",
       "      <th>3</th>\n",
       "      <td>4</td>\n",
       "      <td>Mr. Muhammad Khalid Badini</td>\n",
       "      <td>University of Balochistan</td>\n",
       "      <td>Computer Science &amp; IT</td>\n",
       "      <td>Balochistan</td>\n",
       "      <td>Assistant Professor</td>\n",
       "      <td>MS</td>\n",
       "      <td>NaN</td>\n",
       "      <td>NaN</td>\n",
       "      <td>NaN</td>\n",
       "      <td>Operating System &amp; DBMS</td>\n",
       "      <td>On study leave</td>\n",
       "    </tr>\n",
       "    <tr>\n",
       "      <th>4</th>\n",
       "      <td>5</td>\n",
       "      <td>Dr. Waheed Noor</td>\n",
       "      <td>University of Balochistan</td>\n",
       "      <td>Computer Science &amp; IT</td>\n",
       "      <td>Balochistan</td>\n",
       "      <td>Assistant Professor</td>\n",
       "      <td>PhD</td>\n",
       "      <td>Asian Institute of Technology</td>\n",
       "      <td>Thailand</td>\n",
       "      <td>NaN</td>\n",
       "      <td>DBMS</td>\n",
       "      <td>NaN</td>\n",
       "    </tr>\n",
       "  </tbody>\n",
       "</table>\n",
       "</div>"
      ],
      "text/plain": [
       "   S#                Teacher Name University Currently Teaching  \\\n",
       "0   1             Dr. Ihsan Ullah     University of Balochistan   \n",
       "1   2              Dr. Atiq Ahmed     University of Balochistan   \n",
       "2   3             Dr. Abdul Basit     University of Balochistan   \n",
       "3   4  Mr. Muhammad Khalid Badini     University of Balochistan   \n",
       "4   5             Dr. Waheed Noor     University of Balochistan   \n",
       "\n",
       "              Department Province University Located          Designation  \\\n",
       "0  Computer Science & IT                 Balochistan  Assistant Professor   \n",
       "1  Computer Science & IT                 Balochistan  Associate Professor   \n",
       "2  Computer Science & IT                 Balochistan  Assistant Professor   \n",
       "3  Computer Science & IT                 Balochistan  Assistant Professor   \n",
       "4  Computer Science & IT                 Balochistan  Assistant Professor   \n",
       "\n",
       "  Terminal Degree                 Graduated from   Country  Year  \\\n",
       "0             PhD                            NaN    France   NaN   \n",
       "1             PhD                            NaN    France   NaN   \n",
       "2             PhD  Asian Institute of Technology  Thailand   NaN   \n",
       "3              MS                            NaN       NaN   NaN   \n",
       "4             PhD  Asian Institute of Technology  Thailand   NaN   \n",
       "\n",
       "           Area of Specialization/Research Interests Other Information  \n",
       "0            P2P Networks, Telecommunication Systems               NaN  \n",
       "1  Wireless Networks, Telecommunication Systems, ...               NaN  \n",
       "2                        Software Engineering & DBMS               NaN  \n",
       "3                            Operating System & DBMS    On study leave  \n",
       "4                                               DBMS               NaN  "
      ]
     },
     "execution_count": 6,
     "metadata": {},
     "output_type": "execute_result"
    }
   ],
   "source": [
    "df.head(5)"
   ]
  },
  {
   "cell_type": "markdown",
   "id": "038f1f38",
   "metadata": {
    "papermill": {
     "duration": 0.01187,
     "end_time": "2023-07-12T09:33:49.982501",
     "exception": false,
     "start_time": "2023-07-12T09:33:49.970631",
     "status": "completed"
    },
    "tags": []
   },
   "source": [
    "# Data Preprocessing"
   ]
  },
  {
   "cell_type": "markdown",
   "id": "edd1580b",
   "metadata": {
    "papermill": {
     "duration": 0.012087,
     "end_time": "2023-07-12T09:33:50.007129",
     "exception": false,
     "start_time": "2023-07-12T09:33:49.995042",
     "status": "completed"
    },
    "tags": []
   },
   "source": [
    "**Droping unnecessary information**"
   ]
  },
  {
   "cell_type": "code",
   "execution_count": 7,
   "id": "8b2ee451",
   "metadata": {
    "execution": {
     "iopub.execute_input": "2023-07-12T09:33:50.035047Z",
     "iopub.status.busy": "2023-07-12T09:33:50.034581Z",
     "iopub.status.idle": "2023-07-12T09:33:50.041505Z",
     "shell.execute_reply": "2023-07-12T09:33:50.040308Z"
    },
    "papermill": {
     "duration": 0.024089,
     "end_time": "2023-07-12T09:33:50.043912",
     "exception": false,
     "start_time": "2023-07-12T09:33:50.019823",
     "status": "completed"
    },
    "tags": []
   },
   "outputs": [],
   "source": [
    "df = df.drop(['S#','Other Information'],axis=1)"
   ]
  },
  {
   "cell_type": "code",
   "execution_count": 8,
   "id": "229fe141",
   "metadata": {
    "execution": {
     "iopub.execute_input": "2023-07-12T09:33:50.070745Z",
     "iopub.status.busy": "2023-07-12T09:33:50.070286Z",
     "iopub.status.idle": "2023-07-12T09:33:50.077570Z",
     "shell.execute_reply": "2023-07-12T09:33:50.076484Z"
    },
    "papermill": {
     "duration": 0.023449,
     "end_time": "2023-07-12T09:33:50.079844",
     "exception": false,
     "start_time": "2023-07-12T09:33:50.056395",
     "status": "completed"
    },
    "tags": []
   },
   "outputs": [
    {
     "data": {
      "text/plain": [
       "(1981, 10)"
      ]
     },
     "execution_count": 8,
     "metadata": {},
     "output_type": "execute_result"
    }
   ],
   "source": [
    "df.shape"
   ]
  },
  {
   "cell_type": "code",
   "execution_count": 9,
   "id": "1d5b8e6f",
   "metadata": {
    "execution": {
     "iopub.execute_input": "2023-07-12T09:33:50.107209Z",
     "iopub.status.busy": "2023-07-12T09:33:50.106766Z",
     "iopub.status.idle": "2023-07-12T09:33:50.124560Z",
     "shell.execute_reply": "2023-07-12T09:33:50.123322Z"
    },
    "papermill": {
     "duration": 0.0337,
     "end_time": "2023-07-12T09:33:50.126622",
     "exception": false,
     "start_time": "2023-07-12T09:33:50.092922",
     "status": "completed"
    },
    "tags": []
   },
   "outputs": [
    {
     "data": {
      "text/html": [
       "<div>\n",
       "<style scoped>\n",
       "    .dataframe tbody tr th:only-of-type {\n",
       "        vertical-align: middle;\n",
       "    }\n",
       "\n",
       "    .dataframe tbody tr th {\n",
       "        vertical-align: top;\n",
       "    }\n",
       "\n",
       "    .dataframe thead th {\n",
       "        text-align: right;\n",
       "    }\n",
       "</style>\n",
       "<table border=\"1\" class=\"dataframe\">\n",
       "  <thead>\n",
       "    <tr style=\"text-align: right;\">\n",
       "      <th></th>\n",
       "      <th>Teacher Name</th>\n",
       "      <th>University Currently Teaching</th>\n",
       "      <th>Department</th>\n",
       "      <th>Province University Located</th>\n",
       "      <th>Designation</th>\n",
       "      <th>Terminal Degree</th>\n",
       "      <th>Graduated from</th>\n",
       "      <th>Country</th>\n",
       "      <th>Year</th>\n",
       "      <th>Area of Specialization/Research Interests</th>\n",
       "    </tr>\n",
       "  </thead>\n",
       "  <tbody>\n",
       "    <tr>\n",
       "      <th>0</th>\n",
       "      <td>Dr. Ihsan Ullah</td>\n",
       "      <td>University of Balochistan</td>\n",
       "      <td>Computer Science &amp; IT</td>\n",
       "      <td>Balochistan</td>\n",
       "      <td>Assistant Professor</td>\n",
       "      <td>PhD</td>\n",
       "      <td>NaN</td>\n",
       "      <td>France</td>\n",
       "      <td>NaN</td>\n",
       "      <td>P2P Networks, Telecommunication Systems</td>\n",
       "    </tr>\n",
       "    <tr>\n",
       "      <th>1</th>\n",
       "      <td>Dr. Atiq Ahmed</td>\n",
       "      <td>University of Balochistan</td>\n",
       "      <td>Computer Science &amp; IT</td>\n",
       "      <td>Balochistan</td>\n",
       "      <td>Associate Professor</td>\n",
       "      <td>PhD</td>\n",
       "      <td>NaN</td>\n",
       "      <td>France</td>\n",
       "      <td>NaN</td>\n",
       "      <td>Wireless Networks, Telecommunication Systems, ...</td>\n",
       "    </tr>\n",
       "    <tr>\n",
       "      <th>2</th>\n",
       "      <td>Dr. Abdul Basit</td>\n",
       "      <td>University of Balochistan</td>\n",
       "      <td>Computer Science &amp; IT</td>\n",
       "      <td>Balochistan</td>\n",
       "      <td>Assistant Professor</td>\n",
       "      <td>PhD</td>\n",
       "      <td>Asian Institute of Technology</td>\n",
       "      <td>Thailand</td>\n",
       "      <td>NaN</td>\n",
       "      <td>Software Engineering &amp; DBMS</td>\n",
       "    </tr>\n",
       "    <tr>\n",
       "      <th>3</th>\n",
       "      <td>Mr. Muhammad Khalid Badini</td>\n",
       "      <td>University of Balochistan</td>\n",
       "      <td>Computer Science &amp; IT</td>\n",
       "      <td>Balochistan</td>\n",
       "      <td>Assistant Professor</td>\n",
       "      <td>MS</td>\n",
       "      <td>NaN</td>\n",
       "      <td>NaN</td>\n",
       "      <td>NaN</td>\n",
       "      <td>Operating System &amp; DBMS</td>\n",
       "    </tr>\n",
       "    <tr>\n",
       "      <th>4</th>\n",
       "      <td>Dr. Waheed Noor</td>\n",
       "      <td>University of Balochistan</td>\n",
       "      <td>Computer Science &amp; IT</td>\n",
       "      <td>Balochistan</td>\n",
       "      <td>Assistant Professor</td>\n",
       "      <td>PhD</td>\n",
       "      <td>Asian Institute of Technology</td>\n",
       "      <td>Thailand</td>\n",
       "      <td>NaN</td>\n",
       "      <td>DBMS</td>\n",
       "    </tr>\n",
       "  </tbody>\n",
       "</table>\n",
       "</div>"
      ],
      "text/plain": [
       "                 Teacher Name University Currently Teaching  \\\n",
       "0             Dr. Ihsan Ullah     University of Balochistan   \n",
       "1              Dr. Atiq Ahmed     University of Balochistan   \n",
       "2             Dr. Abdul Basit     University of Balochistan   \n",
       "3  Mr. Muhammad Khalid Badini     University of Balochistan   \n",
       "4             Dr. Waheed Noor     University of Balochistan   \n",
       "\n",
       "              Department Province University Located          Designation  \\\n",
       "0  Computer Science & IT                 Balochistan  Assistant Professor   \n",
       "1  Computer Science & IT                 Balochistan  Associate Professor   \n",
       "2  Computer Science & IT                 Balochistan  Assistant Professor   \n",
       "3  Computer Science & IT                 Balochistan  Assistant Professor   \n",
       "4  Computer Science & IT                 Balochistan  Assistant Professor   \n",
       "\n",
       "  Terminal Degree                 Graduated from   Country  Year  \\\n",
       "0             PhD                            NaN    France   NaN   \n",
       "1             PhD                            NaN    France   NaN   \n",
       "2             PhD  Asian Institute of Technology  Thailand   NaN   \n",
       "3              MS                            NaN       NaN   NaN   \n",
       "4             PhD  Asian Institute of Technology  Thailand   NaN   \n",
       "\n",
       "           Area of Specialization/Research Interests  \n",
       "0            P2P Networks, Telecommunication Systems  \n",
       "1  Wireless Networks, Telecommunication Systems, ...  \n",
       "2                        Software Engineering & DBMS  \n",
       "3                            Operating System & DBMS  \n",
       "4                                               DBMS  "
      ]
     },
     "execution_count": 9,
     "metadata": {},
     "output_type": "execute_result"
    }
   ],
   "source": [
    "df.head(5)"
   ]
  },
  {
   "cell_type": "markdown",
   "id": "64685518",
   "metadata": {
    "papermill": {
     "duration": 0.012311,
     "end_time": "2023-07-12T09:33:50.151553",
     "exception": false,
     "start_time": "2023-07-12T09:33:50.139242",
     "status": "completed"
    },
    "tags": []
   },
   "source": [
    "**Rename the Columns**"
   ]
  },
  {
   "cell_type": "code",
   "execution_count": 10,
   "id": "7c68b276",
   "metadata": {
    "execution": {
     "iopub.execute_input": "2023-07-12T09:33:50.179089Z",
     "iopub.status.busy": "2023-07-12T09:33:50.178603Z",
     "iopub.status.idle": "2023-07-12T09:33:50.185674Z",
     "shell.execute_reply": "2023-07-12T09:33:50.184563Z"
    },
    "papermill": {
     "duration": 0.023849,
     "end_time": "2023-07-12T09:33:50.188030",
     "exception": false,
     "start_time": "2023-07-12T09:33:50.164181",
     "status": "completed"
    },
    "tags": []
   },
   "outputs": [],
   "source": [
    "df.rename(columns=({'Teacher Name':'teacher_name','University Currently Teaching':'university_currently_teaching',\n",
    "                   'Department':'department','Province University Located':'province_university_located',\n",
    "                   'Designation':'designation','Terminal Degree':'degree','Graduated from':'graduated',\n",
    "                   'Country':'country','Year':'year','Area of Specialization/Research Interests':'specialization'}),inplace=True)"
   ]
  },
  {
   "cell_type": "code",
   "execution_count": 11,
   "id": "771721ae",
   "metadata": {
    "execution": {
     "iopub.execute_input": "2023-07-12T09:33:50.215529Z",
     "iopub.status.busy": "2023-07-12T09:33:50.215076Z",
     "iopub.status.idle": "2023-07-12T09:33:50.236474Z",
     "shell.execute_reply": "2023-07-12T09:33:50.235336Z"
    },
    "papermill": {
     "duration": 0.03805,
     "end_time": "2023-07-12T09:33:50.238900",
     "exception": false,
     "start_time": "2023-07-12T09:33:50.200850",
     "status": "completed"
    },
    "tags": []
   },
   "outputs": [
    {
     "data": {
      "text/html": [
       "<div>\n",
       "<style scoped>\n",
       "    .dataframe tbody tr th:only-of-type {\n",
       "        vertical-align: middle;\n",
       "    }\n",
       "\n",
       "    .dataframe tbody tr th {\n",
       "        vertical-align: top;\n",
       "    }\n",
       "\n",
       "    .dataframe thead th {\n",
       "        text-align: right;\n",
       "    }\n",
       "</style>\n",
       "<table border=\"1\" class=\"dataframe\">\n",
       "  <thead>\n",
       "    <tr style=\"text-align: right;\">\n",
       "      <th></th>\n",
       "      <th>teacher_name</th>\n",
       "      <th>university_currently_teaching</th>\n",
       "      <th>department</th>\n",
       "      <th>province_university_located</th>\n",
       "      <th>designation</th>\n",
       "      <th>degree</th>\n",
       "      <th>graduated</th>\n",
       "      <th>country</th>\n",
       "      <th>year</th>\n",
       "      <th>specialization</th>\n",
       "    </tr>\n",
       "  </thead>\n",
       "  <tbody>\n",
       "    <tr>\n",
       "      <th>0</th>\n",
       "      <td>Dr. Ihsan Ullah</td>\n",
       "      <td>University of Balochistan</td>\n",
       "      <td>Computer Science &amp; IT</td>\n",
       "      <td>Balochistan</td>\n",
       "      <td>Assistant Professor</td>\n",
       "      <td>PhD</td>\n",
       "      <td>NaN</td>\n",
       "      <td>France</td>\n",
       "      <td>NaN</td>\n",
       "      <td>P2P Networks, Telecommunication Systems</td>\n",
       "    </tr>\n",
       "    <tr>\n",
       "      <th>1</th>\n",
       "      <td>Dr. Atiq Ahmed</td>\n",
       "      <td>University of Balochistan</td>\n",
       "      <td>Computer Science &amp; IT</td>\n",
       "      <td>Balochistan</td>\n",
       "      <td>Associate Professor</td>\n",
       "      <td>PhD</td>\n",
       "      <td>NaN</td>\n",
       "      <td>France</td>\n",
       "      <td>NaN</td>\n",
       "      <td>Wireless Networks, Telecommunication Systems, ...</td>\n",
       "    </tr>\n",
       "    <tr>\n",
       "      <th>2</th>\n",
       "      <td>Dr. Abdul Basit</td>\n",
       "      <td>University of Balochistan</td>\n",
       "      <td>Computer Science &amp; IT</td>\n",
       "      <td>Balochistan</td>\n",
       "      <td>Assistant Professor</td>\n",
       "      <td>PhD</td>\n",
       "      <td>Asian Institute of Technology</td>\n",
       "      <td>Thailand</td>\n",
       "      <td>NaN</td>\n",
       "      <td>Software Engineering &amp; DBMS</td>\n",
       "    </tr>\n",
       "    <tr>\n",
       "      <th>3</th>\n",
       "      <td>Mr. Muhammad Khalid Badini</td>\n",
       "      <td>University of Balochistan</td>\n",
       "      <td>Computer Science &amp; IT</td>\n",
       "      <td>Balochistan</td>\n",
       "      <td>Assistant Professor</td>\n",
       "      <td>MS</td>\n",
       "      <td>NaN</td>\n",
       "      <td>NaN</td>\n",
       "      <td>NaN</td>\n",
       "      <td>Operating System &amp; DBMS</td>\n",
       "    </tr>\n",
       "    <tr>\n",
       "      <th>4</th>\n",
       "      <td>Dr. Waheed Noor</td>\n",
       "      <td>University of Balochistan</td>\n",
       "      <td>Computer Science &amp; IT</td>\n",
       "      <td>Balochistan</td>\n",
       "      <td>Assistant Professor</td>\n",
       "      <td>PhD</td>\n",
       "      <td>Asian Institute of Technology</td>\n",
       "      <td>Thailand</td>\n",
       "      <td>NaN</td>\n",
       "      <td>DBMS</td>\n",
       "    </tr>\n",
       "  </tbody>\n",
       "</table>\n",
       "</div>"
      ],
      "text/plain": [
       "                 teacher_name university_currently_teaching  \\\n",
       "0             Dr. Ihsan Ullah     University of Balochistan   \n",
       "1              Dr. Atiq Ahmed     University of Balochistan   \n",
       "2             Dr. Abdul Basit     University of Balochistan   \n",
       "3  Mr. Muhammad Khalid Badini     University of Balochistan   \n",
       "4             Dr. Waheed Noor     University of Balochistan   \n",
       "\n",
       "              department province_university_located          designation  \\\n",
       "0  Computer Science & IT                 Balochistan  Assistant Professor   \n",
       "1  Computer Science & IT                 Balochistan  Associate Professor   \n",
       "2  Computer Science & IT                 Balochistan  Assistant Professor   \n",
       "3  Computer Science & IT                 Balochistan  Assistant Professor   \n",
       "4  Computer Science & IT                 Balochistan  Assistant Professor   \n",
       "\n",
       "  degree                      graduated   country  year  \\\n",
       "0    PhD                            NaN    France   NaN   \n",
       "1    PhD                            NaN    France   NaN   \n",
       "2    PhD  Asian Institute of Technology  Thailand   NaN   \n",
       "3     MS                            NaN       NaN   NaN   \n",
       "4    PhD  Asian Institute of Technology  Thailand   NaN   \n",
       "\n",
       "                                      specialization  \n",
       "0            P2P Networks, Telecommunication Systems  \n",
       "1  Wireless Networks, Telecommunication Systems, ...  \n",
       "2                        Software Engineering & DBMS  \n",
       "3                            Operating System & DBMS  \n",
       "4                                               DBMS  "
      ]
     },
     "execution_count": 11,
     "metadata": {},
     "output_type": "execute_result"
    }
   ],
   "source": [
    "df.head(5)"
   ]
  },
  {
   "cell_type": "code",
   "execution_count": 12,
   "id": "6407d196",
   "metadata": {
    "execution": {
     "iopub.execute_input": "2023-07-12T09:33:50.267975Z",
     "iopub.status.busy": "2023-07-12T09:33:50.267512Z",
     "iopub.status.idle": "2023-07-12T09:33:50.274478Z",
     "shell.execute_reply": "2023-07-12T09:33:50.273739Z"
    },
    "papermill": {
     "duration": 0.023644,
     "end_time": "2023-07-12T09:33:50.276511",
     "exception": false,
     "start_time": "2023-07-12T09:33:50.252867",
     "status": "completed"
    },
    "tags": []
   },
   "outputs": [
    {
     "data": {
      "text/plain": [
       "1953"
      ]
     },
     "execution_count": 12,
     "metadata": {},
     "output_type": "execute_result"
    }
   ],
   "source": [
    "df.teacher_name.nunique()"
   ]
  },
  {
   "cell_type": "markdown",
   "id": "9d04c4c4",
   "metadata": {
    "papermill": {
     "duration": 0.012762,
     "end_time": "2023-07-12T09:33:50.302231",
     "exception": false,
     "start_time": "2023-07-12T09:33:50.289469",
     "status": "completed"
    },
    "tags": []
   },
   "source": [
    "**Cleaning the columns one by one**"
   ]
  },
  {
   "cell_type": "code",
   "execution_count": 13,
   "id": "911788bc",
   "metadata": {
    "execution": {
     "iopub.execute_input": "2023-07-12T09:33:50.330822Z",
     "iopub.status.busy": "2023-07-12T09:33:50.330373Z",
     "iopub.status.idle": "2023-07-12T09:33:50.337616Z",
     "shell.execute_reply": "2023-07-12T09:33:50.336752Z"
    },
    "papermill": {
     "duration": 0.023929,
     "end_time": "2023-07-12T09:33:50.339634",
     "exception": false,
     "start_time": "2023-07-12T09:33:50.315705",
     "status": "completed"
    },
    "tags": []
   },
   "outputs": [
    {
     "data": {
      "text/plain": [
       "88"
      ]
     },
     "execution_count": 13,
     "metadata": {},
     "output_type": "execute_result"
    }
   ],
   "source": [
    "df.university_currently_teaching.nunique()"
   ]
  },
  {
   "cell_type": "code",
   "execution_count": 14,
   "id": "26758b33",
   "metadata": {
    "execution": {
     "iopub.execute_input": "2023-07-12T09:33:50.368766Z",
     "iopub.status.busy": "2023-07-12T09:33:50.367684Z",
     "iopub.status.idle": "2023-07-12T09:33:50.375226Z",
     "shell.execute_reply": "2023-07-12T09:33:50.374317Z"
    },
    "papermill": {
     "duration": 0.024597,
     "end_time": "2023-07-12T09:33:50.377459",
     "exception": false,
     "start_time": "2023-07-12T09:33:50.352862",
     "status": "completed"
    },
    "tags": []
   },
   "outputs": [],
   "source": [
    "df.university_currently_teaching = df.university_currently_teaching.str.lower()"
   ]
  },
  {
   "cell_type": "markdown",
   "id": "dee3d2e4",
   "metadata": {
    "papermill": {
     "duration": 0.013121,
     "end_time": "2023-07-12T09:33:50.404590",
     "exception": false,
     "start_time": "2023-07-12T09:33:50.391469",
     "status": "completed"
    },
    "tags": []
   },
   "source": [
    "> Removing special characters in string 'university_currently_teaching"
   ]
  },
  {
   "cell_type": "code",
   "execution_count": 15,
   "id": "7b233321",
   "metadata": {
    "execution": {
     "iopub.execute_input": "2023-07-12T09:33:50.434488Z",
     "iopub.status.busy": "2023-07-12T09:33:50.433397Z",
     "iopub.status.idle": "2023-07-12T09:33:50.454392Z",
     "shell.execute_reply": "2023-07-12T09:33:50.452876Z"
    },
    "papermill": {
     "duration": 0.039301,
     "end_time": "2023-07-12T09:33:50.457846",
     "exception": false,
     "start_time": "2023-07-12T09:33:50.418545",
     "status": "completed"
    },
    "tags": []
   },
   "outputs": [
    {
     "name": "stderr",
     "output_type": "stream",
     "text": [
      "/tmp/ipykernel_21/1086911481.py:1: FutureWarning: The default value of regex will change from True to False in a future version. In addition, single character regular expressions will *not* be treated as literal strings when regex=True.\n",
      "  df.university_currently_teaching = df.university_currently_teaching.str.replace('(','').str.replace(')',\n",
      "/tmp/ipykernel_21/1086911481.py:2: FutureWarning: The default value of regex will change from True to False in a future version. In addition, single character regular expressions will *not* be treated as literal strings when regex=True.\n",
      "  '').str.replace(',','').str.replace('?','').str.replace('\\d+','').str.replace('[','').str.replace(']','').str.strip()\n",
      "/tmp/ipykernel_21/1086911481.py:2: FutureWarning: The default value of regex will change from True to False in a future version.\n",
      "  '').str.replace(',','').str.replace('?','').str.replace('\\d+','').str.replace('[','').str.replace(']','').str.strip()\n"
     ]
    }
   ],
   "source": [
    "df.university_currently_teaching = df.university_currently_teaching.str.replace('(','').str.replace(')',\n",
    "                                                                                                   '').str.replace(',','').str.replace('?','').str.replace('\\d+','').str.replace('[','').str.replace(']','').str.strip()\n",
    "#str.strip() used to remove from begninning and end"
   ]
  },
  {
   "cell_type": "code",
   "execution_count": 16,
   "id": "1de52f9c",
   "metadata": {
    "execution": {
     "iopub.execute_input": "2023-07-12T09:33:50.488694Z",
     "iopub.status.busy": "2023-07-12T09:33:50.487771Z",
     "iopub.status.idle": "2023-07-12T09:33:50.497583Z",
     "shell.execute_reply": "2023-07-12T09:33:50.496486Z"
    },
    "papermill": {
     "duration": 0.02814,
     "end_time": "2023-07-12T09:33:50.500025",
     "exception": false,
     "start_time": "2023-07-12T09:33:50.471885",
     "status": "completed"
    },
    "tags": []
   },
   "outputs": [
    {
     "data": {
      "text/plain": [
       "comsats islamabad campus                                                                117\n",
       "sir syed university of engineering and technology                                        81\n",
       "university of lahore-pakpattan                                                           71\n",
       "balochistan university of information technology engineering and management sciences     68\n",
       "virtual university                                                                       68\n",
       "                                                                                       ... \n",
       "university of loralai                                                                     3\n",
       "pir mehr ali shah arid agriculture university                                             2\n",
       "uet-rasul                                                                                 2\n",
       "islamia college gujranwala                                                                2\n",
       "university of sahiwal                                                                     1\n",
       "Name: university_currently_teaching, Length: 88, dtype: int64"
      ]
     },
     "execution_count": 16,
     "metadata": {},
     "output_type": "execute_result"
    }
   ],
   "source": [
    "df.university_currently_teaching.value_counts()"
   ]
  },
  {
   "cell_type": "markdown",
   "id": "e1ac3408",
   "metadata": {
    "papermill": {
     "duration": 0.013305,
     "end_time": "2023-07-12T09:33:50.527757",
     "exception": false,
     "start_time": "2023-07-12T09:33:50.514452",
     "status": "completed"
    },
    "tags": []
   },
   "source": [
    "**department**"
   ]
  },
  {
   "cell_type": "code",
   "execution_count": 17,
   "id": "10f74372",
   "metadata": {
    "execution": {
     "iopub.execute_input": "2023-07-12T09:33:50.556991Z",
     "iopub.status.busy": "2023-07-12T09:33:50.556610Z",
     "iopub.status.idle": "2023-07-12T09:33:50.563106Z",
     "shell.execute_reply": "2023-07-12T09:33:50.562307Z"
    },
    "papermill": {
     "duration": 0.024448,
     "end_time": "2023-07-12T09:33:50.566075",
     "exception": false,
     "start_time": "2023-07-12T09:33:50.541627",
     "status": "completed"
    },
    "tags": []
   },
   "outputs": [
    {
     "data": {
      "text/plain": [
       "21"
      ]
     },
     "execution_count": 17,
     "metadata": {},
     "output_type": "execute_result"
    }
   ],
   "source": [
    "df.department.nunique()"
   ]
  },
  {
   "cell_type": "code",
   "execution_count": 18,
   "id": "7db28250",
   "metadata": {
    "execution": {
     "iopub.execute_input": "2023-07-12T09:33:50.597397Z",
     "iopub.status.busy": "2023-07-12T09:33:50.596774Z",
     "iopub.status.idle": "2023-07-12T09:33:50.605961Z",
     "shell.execute_reply": "2023-07-12T09:33:50.604816Z"
    },
    "papermill": {
     "duration": 0.027417,
     "end_time": "2023-07-12T09:33:50.608416",
     "exception": false,
     "start_time": "2023-07-12T09:33:50.580999",
     "status": "completed"
    },
    "tags": []
   },
   "outputs": [
    {
     "data": {
      "text/plain": [
       "Computer Science                                         1265\n",
       "Computer Science & IT                                      86\n",
       "Computer Engineering                                       81\n",
       "Information Technology                                     78\n",
       "Computer Science and IT                                    71\n",
       "Computer Sciences                                          59\n",
       "Computing                                                  49\n",
       "Computer Science and Software Engineering                  42\n",
       "Computing & Information Sciences                           38\n",
       "Computer Science & Engineering                             29\n",
       "Institute of Mathematics & Computer Science                29\n",
       "Computer Science and Engineering                           25\n",
       "FACULTY OF COMPUTING & ENGINEERING                         22\n",
       "Computer and Information Sciences                          20\n",
       "Department of Computer Systems & Software Engineering      16\n",
       "CS & IT                                                    15\n",
       "Software Engineering                                       14\n",
       "ENGINEERING, SCIENCE & TECHNOLOGY                          14\n",
       "CS/IT                                                      12\n",
       "School of Information and Technology                       11\n",
       "Computer Science and Information Technology                 5\n",
       "Name: department, dtype: int64"
      ]
     },
     "execution_count": 18,
     "metadata": {},
     "output_type": "execute_result"
    }
   ],
   "source": [
    "df.department.value_counts()"
   ]
  },
  {
   "cell_type": "code",
   "execution_count": 19,
   "id": "c04bae75",
   "metadata": {
    "execution": {
     "iopub.execute_input": "2023-07-12T09:33:50.639735Z",
     "iopub.status.busy": "2023-07-12T09:33:50.639061Z",
     "iopub.status.idle": "2023-07-12T09:33:50.688645Z",
     "shell.execute_reply": "2023-07-12T09:33:50.687272Z"
    },
    "papermill": {
     "duration": 0.068278,
     "end_time": "2023-07-12T09:33:50.691514",
     "exception": false,
     "start_time": "2023-07-12T09:33:50.623236",
     "status": "completed"
    },
    "tags": []
   },
   "outputs": [],
   "source": [
    "df.department = df.department.str.replace('Computer Science','Computer Science')\n",
    "df.department = df.department.str.replace('Computer Science & IT','Computer Science & IT')\n",
    "df.department = df.department.str.replace('Computer Engineering','Computer Engineering')\n",
    "df.department = df.department.str.replace('Information Technology','Information Technology')\n",
    "df.department = df.department.str.replace('Computer Science and IT','Computer Science & IT')\n",
    "df.department = df.department.str.replace('Computer Sciences','Computer Science')\n",
    "df.department = df.department.str.replace('Computing','Computing')\n",
    "df.department = df.department.str.replace('Computer Science and Software Engineering','Computer Science and Software Engineering')\n",
    "df.department = df.department.str.replace('Computing & Information Sciences','Computing & Information Sciences')\n",
    "df.department = df.department.str.replace('Computer Science & Engineering','Computer Science & Engineering')\n",
    "df.department = df.department.str.replace('FACULTY OF COMPUTING & ENGINEERING','Faculty of Computing & Engineering')\n",
    "df.department = df.department.str.replace('Institute of Mathematics & Computer Science','Institute of Mathematics & Computer Science')\n",
    "df.department = df.department.str.replace('Computer Science and Engineering','Computer Science & Engineering')\n",
    "df.department = df.department.str.replace('Computer and Information Sciences','Computer and Information Sciences')\n",
    "df.department = df.department.str.replace('Department of Computer Systems & Software Engineering','Computer Science and Software Engineering')\n",
    "df.department = df.department.str.replace('CS & IT','Computer Science & IT')\n",
    "df.department = df.department.str.replace('Software Engineering','Software Engineering')\n",
    "df.department = df.department.str.replace('ENGINEERING, SCIENCE & TECHNOLOGY','Engineering,Science,Technology')\n",
    "df.department = df.department.str.replace('CS/IT','Computer Science & IT')\n",
    "df.department = df.department.str.replace('School of Information and Technology','Information Technology')\n",
    "df.department = df.department.str.replace('Computer Science and Information Technology','Computer Science & IT')"
   ]
  },
  {
   "cell_type": "code",
   "execution_count": 20,
   "id": "37277d7d",
   "metadata": {
    "execution": {
     "iopub.execute_input": "2023-07-12T09:33:50.722121Z",
     "iopub.status.busy": "2023-07-12T09:33:50.721495Z",
     "iopub.status.idle": "2023-07-12T09:33:50.727757Z",
     "shell.execute_reply": "2023-07-12T09:33:50.726899Z"
    },
    "papermill": {
     "duration": 0.023999,
     "end_time": "2023-07-12T09:33:50.729869",
     "exception": false,
     "start_time": "2023-07-12T09:33:50.705870",
     "status": "completed"
    },
    "tags": []
   },
   "outputs": [
    {
     "data": {
      "text/plain": [
       "13"
      ]
     },
     "execution_count": 20,
     "metadata": {},
     "output_type": "execute_result"
    }
   ],
   "source": [
    "df.department.nunique()"
   ]
  },
  {
   "cell_type": "markdown",
   "id": "6095af3c",
   "metadata": {
    "papermill": {
     "duration": 0.0136,
     "end_time": "2023-07-12T09:33:50.757815",
     "exception": false,
     "start_time": "2023-07-12T09:33:50.744215",
     "status": "completed"
    },
    "tags": []
   },
   "source": [
    "**province_university_located**"
   ]
  },
  {
   "cell_type": "code",
   "execution_count": 21,
   "id": "4fa68b76",
   "metadata": {
    "execution": {
     "iopub.execute_input": "2023-07-12T09:33:50.788869Z",
     "iopub.status.busy": "2023-07-12T09:33:50.788237Z",
     "iopub.status.idle": "2023-07-12T09:33:50.794474Z",
     "shell.execute_reply": "2023-07-12T09:33:50.793494Z"
    },
    "papermill": {
     "duration": 0.024231,
     "end_time": "2023-07-12T09:33:50.796658",
     "exception": false,
     "start_time": "2023-07-12T09:33:50.772427",
     "status": "completed"
    },
    "tags": []
   },
   "outputs": [
    {
     "data": {
      "text/plain": [
       "5"
      ]
     },
     "execution_count": 21,
     "metadata": {},
     "output_type": "execute_result"
    }
   ],
   "source": [
    "df.province_university_located.nunique()"
   ]
  },
  {
   "cell_type": "code",
   "execution_count": 22,
   "id": "c5665f87",
   "metadata": {
    "execution": {
     "iopub.execute_input": "2023-07-12T09:33:50.827764Z",
     "iopub.status.busy": "2023-07-12T09:33:50.827148Z",
     "iopub.status.idle": "2023-07-12T09:33:50.834057Z",
     "shell.execute_reply": "2023-07-12T09:33:50.833342Z"
    },
    "papermill": {
     "duration": 0.025013,
     "end_time": "2023-07-12T09:33:50.836097",
     "exception": false,
     "start_time": "2023-07-12T09:33:50.811084",
     "status": "completed"
    },
    "tags": []
   },
   "outputs": [
    {
     "data": {
      "text/plain": [
       "Punjab         898\n",
       "Sindh          420\n",
       "Capital        385\n",
       "KPK            168\n",
       "Balochistan    110\n",
       "Name: province_university_located, dtype: int64"
      ]
     },
     "execution_count": 22,
     "metadata": {},
     "output_type": "execute_result"
    }
   ],
   "source": [
    "df.province_university_located.value_counts()"
   ]
  },
  {
   "cell_type": "markdown",
   "id": "a7473bf6",
   "metadata": {
    "papermill": {
     "duration": 0.014308,
     "end_time": "2023-07-12T09:33:50.864850",
     "exception": false,
     "start_time": "2023-07-12T09:33:50.850542",
     "status": "completed"
    },
    "tags": []
   },
   "source": [
    "**designation**"
   ]
  },
  {
   "cell_type": "code",
   "execution_count": 23,
   "id": "6e83c5c5",
   "metadata": {
    "execution": {
     "iopub.execute_input": "2023-07-12T09:33:50.895158Z",
     "iopub.status.busy": "2023-07-12T09:33:50.894763Z",
     "iopub.status.idle": "2023-07-12T09:33:50.902509Z",
     "shell.execute_reply": "2023-07-12T09:33:50.901802Z"
    },
    "papermill": {
     "duration": 0.02522,
     "end_time": "2023-07-12T09:33:50.904408",
     "exception": false,
     "start_time": "2023-07-12T09:33:50.879188",
     "status": "completed"
    },
    "tags": []
   },
   "outputs": [
    {
     "data": {
      "text/plain": [
       "Lecturer                      783\n",
       "Assistant Professor           705\n",
       "Associate Professor           128\n",
       "Professor                      46\n",
       "Tutor/Instructor               46\n",
       "Senior Lecturer                25\n",
       "Jr.Lecturer                    19\n",
       "Research Associate             14\n",
       "Senior Assistant Professor     12\n",
       "Head of Department             11\n",
       "Name: designation, dtype: int64"
      ]
     },
     "execution_count": 23,
     "metadata": {},
     "output_type": "execute_result"
    }
   ],
   "source": [
    "df.designation.value_counts().head(10)"
   ]
  },
  {
   "cell_type": "code",
   "execution_count": 24,
   "id": "6a771270",
   "metadata": {
    "execution": {
     "iopub.execute_input": "2023-07-12T09:33:50.936135Z",
     "iopub.status.busy": "2023-07-12T09:33:50.935490Z",
     "iopub.status.idle": "2023-07-12T09:33:50.942509Z",
     "shell.execute_reply": "2023-07-12T09:33:50.941324Z"
    },
    "papermill": {
     "duration": 0.026083,
     "end_time": "2023-07-12T09:33:50.945040",
     "exception": false,
     "start_time": "2023-07-12T09:33:50.918957",
     "status": "completed"
    },
    "tags": []
   },
   "outputs": [
    {
     "data": {
      "text/plain": [
       "63"
      ]
     },
     "execution_count": 24,
     "metadata": {},
     "output_type": "execute_result"
    }
   ],
   "source": [
    "df.designation.isnull().sum()"
   ]
  },
  {
   "cell_type": "markdown",
   "id": "01f92d55",
   "metadata": {
    "papermill": {
     "duration": 0.013863,
     "end_time": "2023-07-12T09:33:50.973529",
     "exception": false,
     "start_time": "2023-07-12T09:33:50.959666",
     "status": "completed"
    },
    "tags": []
   },
   "source": [
    "**degree**"
   ]
  },
  {
   "cell_type": "code",
   "execution_count": 25,
   "id": "cd37e6d0",
   "metadata": {
    "execution": {
     "iopub.execute_input": "2023-07-12T09:33:51.005245Z",
     "iopub.status.busy": "2023-07-12T09:33:51.004787Z",
     "iopub.status.idle": "2023-07-12T09:33:51.012680Z",
     "shell.execute_reply": "2023-07-12T09:33:51.011525Z"
    },
    "papermill": {
     "duration": 0.02677,
     "end_time": "2023-07-12T09:33:51.014935",
     "exception": false,
     "start_time": "2023-07-12T09:33:50.988165",
     "status": "completed"
    },
    "tags": []
   },
   "outputs": [
    {
     "data": {
      "text/plain": [
       "49"
      ]
     },
     "execution_count": 25,
     "metadata": {},
     "output_type": "execute_result"
    }
   ],
   "source": [
    "df.degree.nunique()"
   ]
  },
  {
   "cell_type": "code",
   "execution_count": 26,
   "id": "ea773973",
   "metadata": {
    "execution": {
     "iopub.execute_input": "2023-07-12T09:33:51.046724Z",
     "iopub.status.busy": "2023-07-12T09:33:51.046257Z",
     "iopub.status.idle": "2023-07-12T09:33:51.056060Z",
     "shell.execute_reply": "2023-07-12T09:33:51.055002Z"
    },
    "papermill": {
     "duration": 0.028619,
     "end_time": "2023-07-12T09:33:51.058262",
     "exception": false,
     "start_time": "2023-07-12T09:33:51.029643",
     "status": "completed"
    },
    "tags": []
   },
   "outputs": [
    {
     "data": {
      "text/plain": [
       "MS        559\n",
       "PhD       438\n",
       "BS        101\n",
       "MSc        59\n",
       "MCS        34\n",
       "Ph.D       25\n",
       "M.Phil     24\n",
       "Mphil      23\n",
       "MSCS       19\n",
       "Phd        17\n",
       "Name: degree, dtype: int64"
      ]
     },
     "execution_count": 26,
     "metadata": {},
     "output_type": "execute_result"
    }
   ],
   "source": [
    "df.degree.value_counts().head(10)"
   ]
  },
  {
   "cell_type": "code",
   "execution_count": 27,
   "id": "2d8d6e48",
   "metadata": {
    "execution": {
     "iopub.execute_input": "2023-07-12T09:33:51.090202Z",
     "iopub.status.busy": "2023-07-12T09:33:51.089633Z",
     "iopub.status.idle": "2023-07-12T09:33:51.183382Z",
     "shell.execute_reply": "2023-07-12T09:33:51.182193Z"
    },
    "papermill": {
     "duration": 0.113559,
     "end_time": "2023-07-12T09:33:51.186239",
     "exception": false,
     "start_time": "2023-07-12T09:33:51.072680",
     "status": "completed"
    },
    "tags": []
   },
   "outputs": [
    {
     "name": "stderr",
     "output_type": "stream",
     "text": [
      "/tmp/ipykernel_21/3811388185.py:1: FutureWarning: The default value of regex will change from True to False in a future version.\n",
      "  df.degree = df.degree.str.replace('M.S','MS')\n",
      "/tmp/ipykernel_21/3811388185.py:3: FutureWarning: The default value of regex will change from True to False in a future version.\n",
      "  df.degree = df.degree.str.replace('MS (Scholar)','MS')\n",
      "/tmp/ipykernel_21/3811388185.py:4: FutureWarning: The default value of regex will change from True to False in a future version.\n",
      "  df.degree = df.degree.str.replace('Ph.D (Scholar)','Phd')\n",
      "/tmp/ipykernel_21/3811388185.py:7: FutureWarning: The default value of regex will change from True to False in a future version.\n",
      "  df.degree = df.degree.str.replace('M.A','MA')\n",
      "/tmp/ipykernel_21/3811388185.py:9: FutureWarning: The default value of regex will change from True to False in a future version.\n",
      "  df.degree = df.degree.str.replace('M.Eng','M.Eng')\n",
      "/tmp/ipykernel_21/3811388185.py:11: FutureWarning: The default value of regex will change from True to False in a future version.\n",
      "  df.degree = df.degree.str.replace('B.Ed','B.Ed')\n",
      "/tmp/ipykernel_21/3811388185.py:13: FutureWarning: The default value of regex will change from True to False in a future version.\n",
      "  df.degree = df.degree.str.replace('M.Phil leading to PhD','M.Phil leading to PhD')\n",
      "/tmp/ipykernel_21/3811388185.py:18: FutureWarning: The default value of regex will change from True to False in a future version.\n",
      "  df.degree = df.degree.str.replace('M.Com','M.Com')\n",
      "/tmp/ipykernel_21/3811388185.py:22: FutureWarning: The default value of regex will change from True to False in a future version.\n",
      "  df.degree = df.degree.str.replace('Ph.D(Scholar)','Phd')\n",
      "/tmp/ipykernel_21/3811388185.py:25: FutureWarning: The default value of regex will change from True to False in a future version.\n",
      "  df.degree = df.degree.str.replace('B.E','BE')\n",
      "/tmp/ipykernel_21/3811388185.py:35: FutureWarning: The default value of regex will change from True to False in a future version.\n",
      "  df.degree = df.degree.str.replace('Ph.D','Phd')\n",
      "/tmp/ipykernel_21/3811388185.py:36: FutureWarning: The default value of regex will change from True to False in a future version.\n",
      "  df.degree = df.degree.str.replace('M.Phil','Mphil')\n",
      "/tmp/ipykernel_21/3811388185.py:40: FutureWarning: The default value of regex will change from True to False in a future version.\n",
      "  df.degree = df.degree.str.replace('M.E','ME')\n",
      "/tmp/ipykernel_21/3811388185.py:45: FutureWarning: The default value of regex will change from True to False in a future version.\n",
      "  df.degree = df.degree.str.replace('M.Sc','MSc')\n"
     ]
    }
   ],
   "source": [
    "df.degree = df.degree.str.replace('M.S','MS')\n",
    "df.degree = df.degree.str.replace('MIT','MIT')\n",
    "df.degree = df.degree.str.replace('MS (Scholar)','MS')\n",
    "df.degree = df.degree.str.replace('Ph.D (Scholar)','Phd')\n",
    "df.degree = df.degree.str.replace('BSc','BSc')\n",
    "df.degree = df.degree.str.replace('Doctor of Professional Studies','Phd')\n",
    "df.degree = df.degree.str.replace('M.A','MA')\n",
    "df.degree = df.degree.str.replace('MSTN','MSTN')\n",
    "df.degree = df.degree.str.replace('M.Eng','M.Eng')\n",
    "df.degree = df.degree.str.replace('BIT','BIT')\n",
    "df.degree = df.degree.str.replace('B.Ed','B.Ed')\n",
    "df.degree = df.degree.str.replace('MBS','MBS')\n",
    "df.degree = df.degree.str.replace('M.Phil leading to PhD','M.Phil leading to PhD')\n",
    "df.degree = df.degree.str.replace('Master','MS')\n",
    "df.degree = df.degree.str.replace('Masters','MS')\n",
    "df.degree = df.degree.str.replace('BSIT','BS')\n",
    "df.degree = df.degree.str.replace('MSC','MSc')\n",
    "df.degree = df.degree.str.replace('M.Com','M.Com')\n",
    "df.degree = df.degree.str.replace('BA','BA')\n",
    "df.degree = df.degree.str.replace('MA','MA')\n",
    "df.degree = df.degree.str.replace('Mcs','MCS')\n",
    "df.degree = df.degree.str.replace('Ph.D(Scholar)','Phd')\n",
    "df.degree = df.degree.str.replace('MSSE','MSSE')\n",
    "df.degree = df.degree.str.replace('Bachelors','BSc')\n",
    "df.degree = df.degree.str.replace('B.E','BE')\n",
    "df.degree = df.degree.str.replace('MCIT','MCIT')\n",
    "df.degree = df.degree.str.replace('BSC','BSc')\n",
    "df.degree = df.degree.str.replace('MSC','MSc')\n",
    "df.degree = df.degree.str.replace('MSIT','MSIT')\n",
    "df.degree = df.degree.str.replace('MS','MS')\n",
    "df.degree = df.degree.str.replace('PhD','Phd')\n",
    "df.degree = df.degree.str.replace('BS','BS')\n",
    "df.degree = df.degree.str.replace('MSc','MSc')\n",
    "df.degree = df.degree.str.replace('MSC','MSc')\n",
    "df.degree = df.degree.str.replace('Ph.D','Phd')\n",
    "df.degree = df.degree.str.replace('M.Phil','Mphil')\n",
    "df.degree = df.degree.str.replace('Mphile','Mphile')\n",
    "df.degree = df.degree.str.replace('MSCS','MS')\n",
    "df.degree = df.degree.str.replace('Phd','Phd')\n",
    "df.degree = df.degree.str.replace('M.E','ME')\n",
    "df.degree = df.degree.str.replace('Post Doc','Post Doc')\n",
    "df.degree = df.degree.str.replace('ME','ME')\n",
    "df.degree = df.degree.str.replace('MBA','MBA')\n",
    "df.degree = df.degree.str.replace('MPhile','Mphile')\n",
    "df.degree = df.degree.str.replace('M.Sc','MSc')\n",
    "df.degree = df.degree.str.replace('BSCS','BS')\n",
    "df.degree = df.degree.str.replace('PostDoc','Post Doc')\n",
    "df.degree = df.degree.str.replace('BE','BE')\n",
    "df.degree = df.degree.str.replace('BCS','BCS')"
   ]
  },
  {
   "cell_type": "code",
   "execution_count": 28,
   "id": "46760503",
   "metadata": {
    "execution": {
     "iopub.execute_input": "2023-07-12T09:33:51.217274Z",
     "iopub.status.busy": "2023-07-12T09:33:51.216710Z",
     "iopub.status.idle": "2023-07-12T09:33:51.226698Z",
     "shell.execute_reply": "2023-07-12T09:33:51.224838Z"
    },
    "papermill": {
     "duration": 0.028308,
     "end_time": "2023-07-12T09:33:51.228996",
     "exception": false,
     "start_time": "2023-07-12T09:33:51.200688",
     "status": "completed"
    },
    "tags": []
   },
   "outputs": [
    {
     "data": {
      "text/plain": [
       "30"
      ]
     },
     "execution_count": 28,
     "metadata": {},
     "output_type": "execute_result"
    }
   ],
   "source": [
    "df.degree.nunique()"
   ]
  },
  {
   "cell_type": "code",
   "execution_count": 29,
   "id": "60934f68",
   "metadata": {
    "execution": {
     "iopub.execute_input": "2023-07-12T09:33:51.261877Z",
     "iopub.status.busy": "2023-07-12T09:33:51.261464Z",
     "iopub.status.idle": "2023-07-12T09:33:51.278208Z",
     "shell.execute_reply": "2023-07-12T09:33:51.276791Z"
    },
    "papermill": {
     "duration": 0.036074,
     "end_time": "2023-07-12T09:33:51.280412",
     "exception": false,
     "start_time": "2023-07-12T09:33:51.244338",
     "status": "completed"
    },
    "tags": []
   },
   "outputs": [
    {
     "data": {
      "text/html": [
       "<div>\n",
       "<style scoped>\n",
       "    .dataframe tbody tr th:only-of-type {\n",
       "        vertical-align: middle;\n",
       "    }\n",
       "\n",
       "    .dataframe tbody tr th {\n",
       "        vertical-align: top;\n",
       "    }\n",
       "\n",
       "    .dataframe thead th {\n",
       "        text-align: right;\n",
       "    }\n",
       "</style>\n",
       "<table border=\"1\" class=\"dataframe\">\n",
       "  <thead>\n",
       "    <tr style=\"text-align: right;\">\n",
       "      <th></th>\n",
       "      <th>teacher_name</th>\n",
       "      <th>university_currently_teaching</th>\n",
       "      <th>department</th>\n",
       "      <th>province_university_located</th>\n",
       "      <th>designation</th>\n",
       "      <th>degree</th>\n",
       "      <th>graduated</th>\n",
       "      <th>country</th>\n",
       "      <th>year</th>\n",
       "      <th>specialization</th>\n",
       "    </tr>\n",
       "  </thead>\n",
       "  <tbody>\n",
       "    <tr>\n",
       "      <th>0</th>\n",
       "      <td>Dr. Ihsan Ullah</td>\n",
       "      <td>university of balochistan</td>\n",
       "      <td>Computer Science &amp; IT</td>\n",
       "      <td>Balochistan</td>\n",
       "      <td>Assistant Professor</td>\n",
       "      <td>Phd</td>\n",
       "      <td>NaN</td>\n",
       "      <td>France</td>\n",
       "      <td>NaN</td>\n",
       "      <td>P2P Networks, Telecommunication Systems</td>\n",
       "    </tr>\n",
       "    <tr>\n",
       "      <th>1</th>\n",
       "      <td>Dr. Atiq Ahmed</td>\n",
       "      <td>university of balochistan</td>\n",
       "      <td>Computer Science &amp; IT</td>\n",
       "      <td>Balochistan</td>\n",
       "      <td>Associate Professor</td>\n",
       "      <td>Phd</td>\n",
       "      <td>NaN</td>\n",
       "      <td>France</td>\n",
       "      <td>NaN</td>\n",
       "      <td>Wireless Networks, Telecommunication Systems, ...</td>\n",
       "    </tr>\n",
       "    <tr>\n",
       "      <th>2</th>\n",
       "      <td>Dr. Abdul Basit</td>\n",
       "      <td>university of balochistan</td>\n",
       "      <td>Computer Science &amp; IT</td>\n",
       "      <td>Balochistan</td>\n",
       "      <td>Assistant Professor</td>\n",
       "      <td>Phd</td>\n",
       "      <td>Asian Institute of Technology</td>\n",
       "      <td>Thailand</td>\n",
       "      <td>NaN</td>\n",
       "      <td>Software Engineering &amp; DBMS</td>\n",
       "    </tr>\n",
       "    <tr>\n",
       "      <th>3</th>\n",
       "      <td>Mr. Muhammad Khalid Badini</td>\n",
       "      <td>university of balochistan</td>\n",
       "      <td>Computer Science &amp; IT</td>\n",
       "      <td>Balochistan</td>\n",
       "      <td>Assistant Professor</td>\n",
       "      <td>MS</td>\n",
       "      <td>NaN</td>\n",
       "      <td>NaN</td>\n",
       "      <td>NaN</td>\n",
       "      <td>Operating System &amp; DBMS</td>\n",
       "    </tr>\n",
       "    <tr>\n",
       "      <th>4</th>\n",
       "      <td>Dr. Waheed Noor</td>\n",
       "      <td>university of balochistan</td>\n",
       "      <td>Computer Science &amp; IT</td>\n",
       "      <td>Balochistan</td>\n",
       "      <td>Assistant Professor</td>\n",
       "      <td>Phd</td>\n",
       "      <td>Asian Institute of Technology</td>\n",
       "      <td>Thailand</td>\n",
       "      <td>NaN</td>\n",
       "      <td>DBMS</td>\n",
       "    </tr>\n",
       "  </tbody>\n",
       "</table>\n",
       "</div>"
      ],
      "text/plain": [
       "                 teacher_name university_currently_teaching  \\\n",
       "0             Dr. Ihsan Ullah     university of balochistan   \n",
       "1              Dr. Atiq Ahmed     university of balochistan   \n",
       "2             Dr. Abdul Basit     university of balochistan   \n",
       "3  Mr. Muhammad Khalid Badini     university of balochistan   \n",
       "4             Dr. Waheed Noor     university of balochistan   \n",
       "\n",
       "              department province_university_located          designation  \\\n",
       "0  Computer Science & IT                 Balochistan  Assistant Professor   \n",
       "1  Computer Science & IT                 Balochistan  Associate Professor   \n",
       "2  Computer Science & IT                 Balochistan  Assistant Professor   \n",
       "3  Computer Science & IT                 Balochistan  Assistant Professor   \n",
       "4  Computer Science & IT                 Balochistan  Assistant Professor   \n",
       "\n",
       "  degree                      graduated   country  year  \\\n",
       "0    Phd                            NaN    France   NaN   \n",
       "1    Phd                            NaN    France   NaN   \n",
       "2    Phd  Asian Institute of Technology  Thailand   NaN   \n",
       "3     MS                            NaN       NaN   NaN   \n",
       "4    Phd  Asian Institute of Technology  Thailand   NaN   \n",
       "\n",
       "                                      specialization  \n",
       "0            P2P Networks, Telecommunication Systems  \n",
       "1  Wireless Networks, Telecommunication Systems, ...  \n",
       "2                        Software Engineering & DBMS  \n",
       "3                            Operating System & DBMS  \n",
       "4                                               DBMS  "
      ]
     },
     "execution_count": 29,
     "metadata": {},
     "output_type": "execute_result"
    }
   ],
   "source": [
    "df.head(5)"
   ]
  },
  {
   "cell_type": "markdown",
   "id": "236e0109",
   "metadata": {
    "papermill": {
     "duration": 0.015069,
     "end_time": "2023-07-12T09:33:51.311601",
     "exception": false,
     "start_time": "2023-07-12T09:33:51.296532",
     "status": "completed"
    },
    "tags": []
   },
   "source": [
    "**country**"
   ]
  },
  {
   "cell_type": "code",
   "execution_count": 30,
   "id": "cb7178c0",
   "metadata": {
    "execution": {
     "iopub.execute_input": "2023-07-12T09:33:51.343915Z",
     "iopub.status.busy": "2023-07-12T09:33:51.343507Z",
     "iopub.status.idle": "2023-07-12T09:33:51.351905Z",
     "shell.execute_reply": "2023-07-12T09:33:51.350680Z"
    },
    "papermill": {
     "duration": 0.027233,
     "end_time": "2023-07-12T09:33:51.354266",
     "exception": false,
     "start_time": "2023-07-12T09:33:51.327033",
     "status": "completed"
    },
    "tags": []
   },
   "outputs": [
    {
     "data": {
      "text/plain": [
       "37"
      ]
     },
     "execution_count": 30,
     "metadata": {},
     "output_type": "execute_result"
    }
   ],
   "source": [
    "df.country.nunique()"
   ]
  },
  {
   "cell_type": "code",
   "execution_count": 31,
   "id": "f7f06def",
   "metadata": {
    "execution": {
     "iopub.execute_input": "2023-07-12T09:33:51.387030Z",
     "iopub.status.busy": "2023-07-12T09:33:51.386576Z",
     "iopub.status.idle": "2023-07-12T09:33:51.396896Z",
     "shell.execute_reply": "2023-07-12T09:33:51.395617Z"
    },
    "papermill": {
     "duration": 0.029685,
     "end_time": "2023-07-12T09:33:51.399290",
     "exception": false,
     "start_time": "2023-07-12T09:33:51.369605",
     "status": "completed"
    },
    "tags": []
   },
   "outputs": [
    {
     "data": {
      "text/plain": [
       "Pakistan    794\n",
       "UK          103\n",
       "USA          54\n",
       "Malaysia     28\n",
       "France       27\n",
       "Austria      24\n",
       "Germany      22\n",
       "China        21\n",
       "Italy        18\n",
       "Sweden       18\n",
       "Name: country, dtype: int64"
      ]
     },
     "execution_count": 31,
     "metadata": {},
     "output_type": "execute_result"
    }
   ],
   "source": [
    "df.country.value_counts().head(10)"
   ]
  },
  {
   "cell_type": "markdown",
   "id": "e4a0d99a",
   "metadata": {
    "papermill": {
     "duration": 0.015261,
     "end_time": "2023-07-12T09:33:51.430794",
     "exception": false,
     "start_time": "2023-07-12T09:33:51.415533",
     "status": "completed"
    },
    "tags": []
   },
   "source": [
    "**specialization**"
   ]
  },
  {
   "cell_type": "code",
   "execution_count": 32,
   "id": "d1688dba",
   "metadata": {
    "execution": {
     "iopub.execute_input": "2023-07-12T09:33:51.463557Z",
     "iopub.status.busy": "2023-07-12T09:33:51.463117Z",
     "iopub.status.idle": "2023-07-12T09:33:51.471437Z",
     "shell.execute_reply": "2023-07-12T09:33:51.470429Z"
    },
    "papermill": {
     "duration": 0.027309,
     "end_time": "2023-07-12T09:33:51.473551",
     "exception": false,
     "start_time": "2023-07-12T09:33:51.446242",
     "status": "completed"
    },
    "tags": []
   },
   "outputs": [
    {
     "data": {
      "text/plain": [
       "682"
      ]
     },
     "execution_count": 32,
     "metadata": {},
     "output_type": "execute_result"
    }
   ],
   "source": [
    "df.specialization.nunique()"
   ]
  },
  {
   "cell_type": "code",
   "execution_count": 33,
   "id": "aa2c0502",
   "metadata": {
    "execution": {
     "iopub.execute_input": "2023-07-12T09:33:51.508297Z",
     "iopub.status.busy": "2023-07-12T09:33:51.506998Z",
     "iopub.status.idle": "2023-07-12T09:33:51.517750Z",
     "shell.execute_reply": "2023-07-12T09:33:51.516642Z"
    },
    "papermill": {
     "duration": 0.030344,
     "end_time": "2023-07-12T09:33:51.520119",
     "exception": false,
     "start_time": "2023-07-12T09:33:51.489775",
     "status": "completed"
    },
    "tags": []
   },
   "outputs": [
    {
     "data": {
      "text/plain": [
       "Software Engineering                                                                                                                                                                                                                                                                       23\n",
       "SOFTWARE ENGINEERING                                                                                                                                                                                                                                                                        9\n",
       "Computer Networks                                                                                                                                                                                                                                                                           8\n",
       "Computer Science                                                                                                                                                                                                                                                                            4\n",
       "COMPUTER SCIENCE                                                                                                                                                                                                                                                                            4\n",
       "                                                                                                                                                                                                                                                                                           ..\n",
       "Establishment of Software Services Infrastructure, Development of an Integrated Set of Information Systems, Development of Internet and Database Application Software, Distant Electronic Classroom Utilizing Low Bandwidth Internet, Data Warehousing, Information Security Management     1\n",
       "Pose Tracking, Image Registration and Alignment, Visual Surveillance and Navigation, 3D Reconstruction, Virtual and Augmented Reality                                                                                                                                                       1\n",
       "Automatic lexical acquisition, Computational grammar development, Theoretical linguistics, Parallel corpora development and statistical machine translation                                                                                                                                 1\n",
       "High performance computing using GPUs, CMPs; Parallel programming using OpenCL and CUDA; Architectures of GPUs/CMPs                                                                                                                                                                         1\n",
       "Pruning and Quantizing CNN, GPGPU,                                                                                                                                                                                                                                                          1\n",
       "Name: specialization, Length: 682, dtype: int64"
      ]
     },
     "execution_count": 33,
     "metadata": {},
     "output_type": "execute_result"
    }
   ],
   "source": [
    "df.specialization.value_counts()"
   ]
  },
  {
   "cell_type": "code",
   "execution_count": 34,
   "id": "c0874e3f",
   "metadata": {
    "execution": {
     "iopub.execute_input": "2023-07-12T09:33:51.553716Z",
     "iopub.status.busy": "2023-07-12T09:33:51.553212Z",
     "iopub.status.idle": "2023-07-12T09:33:51.561479Z",
     "shell.execute_reply": "2023-07-12T09:33:51.560065Z"
    },
    "papermill": {
     "duration": 0.027845,
     "end_time": "2023-07-12T09:33:51.563625",
     "exception": false,
     "start_time": "2023-07-12T09:33:51.535780",
     "status": "completed"
    },
    "tags": []
   },
   "outputs": [
    {
     "data": {
      "text/plain": [
       "682"
      ]
     },
     "execution_count": 34,
     "metadata": {},
     "output_type": "execute_result"
    }
   ],
   "source": [
    "df.specialization.nunique()"
   ]
  },
  {
   "cell_type": "code",
   "execution_count": 35,
   "id": "2d60e71c",
   "metadata": {
    "execution": {
     "iopub.execute_input": "2023-07-12T09:33:51.597029Z",
     "iopub.status.busy": "2023-07-12T09:33:51.596558Z",
     "iopub.status.idle": "2023-07-12T09:33:51.625916Z",
     "shell.execute_reply": "2023-07-12T09:33:51.624833Z"
    },
    "papermill": {
     "duration": 0.04852,
     "end_time": "2023-07-12T09:33:51.628024",
     "exception": false,
     "start_time": "2023-07-12T09:33:51.579504",
     "status": "completed"
    },
    "tags": []
   },
   "outputs": [
    {
     "name": "stderr",
     "output_type": "stream",
     "text": [
      "/tmp/ipykernel_21/407672733.py:8: FutureWarning: The default value of regex will change from True to False in a future version. In addition, single character regular expressions will *not* be treated as literal strings when regex=True.\n",
      "  Specialization['specialization'] = Specialization['specialization'].str.replace('(','')\n",
      "/tmp/ipykernel_21/407672733.py:9: FutureWarning: The default value of regex will change from True to False in a future version. In addition, single character regular expressions will *not* be treated as literal strings when regex=True.\n",
      "  Specialization['specialization'] = Specialization['specialization'].str.replace(')','')\n"
     ]
    },
    {
     "data": {
      "text/html": [
       "<div>\n",
       "<style scoped>\n",
       "    .dataframe tbody tr th:only-of-type {\n",
       "        vertical-align: middle;\n",
       "    }\n",
       "\n",
       "    .dataframe tbody tr th {\n",
       "        vertical-align: top;\n",
       "    }\n",
       "\n",
       "    .dataframe thead th {\n",
       "        text-align: right;\n",
       "    }\n",
       "</style>\n",
       "<table border=\"1\" class=\"dataframe\">\n",
       "  <thead>\n",
       "    <tr style=\"text-align: right;\">\n",
       "      <th></th>\n",
       "      <th>0</th>\n",
       "    </tr>\n",
       "  </thead>\n",
       "  <tbody>\n",
       "    <tr>\n",
       "      <th>0</th>\n",
       "      <td>P2pnetworks</td>\n",
       "    </tr>\n",
       "    <tr>\n",
       "      <th>1</th>\n",
       "      <td>telecommunicationsystems</td>\n",
       "    </tr>\n",
       "    <tr>\n",
       "      <th>2</th>\n",
       "      <td>Wirelessnetworks</td>\n",
       "    </tr>\n",
       "    <tr>\n",
       "      <th>3</th>\n",
       "      <td>telecommunicationsystems</td>\n",
       "    </tr>\n",
       "    <tr>\n",
       "      <th>4</th>\n",
       "      <td>multi-agentsystems</td>\n",
       "    </tr>\n",
       "    <tr>\n",
       "      <th>...</th>\n",
       "      <td>...</td>\n",
       "    </tr>\n",
       "    <tr>\n",
       "      <th>2144</th>\n",
       "      <td>digitalsignalprocessing</td>\n",
       "    </tr>\n",
       "    <tr>\n",
       "      <th>2145</th>\n",
       "      <td>numericalmethods</td>\n",
       "    </tr>\n",
       "    <tr>\n",
       "      <th>2146</th>\n",
       "      <td>Pruningquantizingcnn</td>\n",
       "    </tr>\n",
       "    <tr>\n",
       "      <th>2147</th>\n",
       "      <td>gpgpu</td>\n",
       "    </tr>\n",
       "    <tr>\n",
       "      <th>2148</th>\n",
       "      <td></td>\n",
       "    </tr>\n",
       "  </tbody>\n",
       "</table>\n",
       "<p>2149 rows × 1 columns</p>\n",
       "</div>"
      ],
      "text/plain": [
       "                             0\n",
       "0                  P2pnetworks\n",
       "1     telecommunicationsystems\n",
       "2             Wirelessnetworks\n",
       "3     telecommunicationsystems\n",
       "4           multi-agentsystems\n",
       "...                        ...\n",
       "2144   digitalsignalprocessing\n",
       "2145          numericalmethods\n",
       "2146      Pruningquantizingcnn\n",
       "2147                     gpgpu\n",
       "2148                          \n",
       "\n",
       "[2149 rows x 1 columns]"
      ]
     },
     "execution_count": 35,
     "metadata": {},
     "output_type": "execute_result"
    }
   ],
   "source": [
    "Specialization = pd.DataFrame(df['specialization'])\n",
    "\n",
    "Specialization.dropna(inplace=True)\n",
    "\n",
    "Specialization['specialization'] = Specialization['specialization'].str.capitalize()\n",
    "Specialization['specialization'] = Specialization['specialization'].str.replace('and','')\n",
    "Specialization['specialization'] = Specialization['specialization'].str.replace(' ','')\n",
    "Specialization['specialization'] = Specialization['specialization'].str.replace('(','')\n",
    "Specialization['specialization'] = Specialization['specialization'].str.replace(')','')\n",
    "Specialization['specialization'] = Specialization['specialization'].str.split(',')\n",
    "\n",
    "Interest = []  #creating a list to store values\n",
    "\n",
    "for i in Specialization.specialization:\n",
    "    for b in i:\n",
    "        Interest.append(b.strip())\n",
    "   \n",
    "df_Interest = pd.DataFrame(Interest) #converting list into dataframe\n",
    "df_Interest  "
   ]
  },
  {
   "cell_type": "markdown",
   "id": "37db559c",
   "metadata": {
    "papermill": {
     "duration": 0.015436,
     "end_time": "2023-07-12T09:33:51.659199",
     "exception": false,
     "start_time": "2023-07-12T09:33:51.643763",
     "status": "completed"
    },
    "tags": []
   },
   "source": [
    "**Renaming the column and count the values**"
   ]
  },
  {
   "cell_type": "code",
   "execution_count": 36,
   "id": "b457e8d5",
   "metadata": {
    "execution": {
     "iopub.execute_input": "2023-07-12T09:33:51.692616Z",
     "iopub.status.busy": "2023-07-12T09:33:51.692148Z",
     "iopub.status.idle": "2023-07-12T09:33:51.713194Z",
     "shell.execute_reply": "2023-07-12T09:33:51.711883Z"
    },
    "papermill": {
     "duration": 0.040438,
     "end_time": "2023-07-12T09:33:51.715313",
     "exception": false,
     "start_time": "2023-07-12T09:33:51.674875",
     "status": "completed"
    },
    "tags": []
   },
   "outputs": [
    {
     "data": {
      "text/plain": [
       "Softwareengineering                48\n",
       "machinelearning                    38\n",
       "datamining                         26\n",
       "Computernetworks                   20\n",
       "softwareengineering                18\n",
       "                                   ..\n",
       "analysisofalgorithms                1\n",
       "analysismethod                      1\n",
       "analysisdesignofalgorithms          1\n",
       "analysiscontrolofchaoticsystems     1\n",
       "xp                                  1\n",
       "Length: 1497, dtype: int64"
      ]
     },
     "execution_count": 36,
     "metadata": {},
     "output_type": "execute_result"
    }
   ],
   "source": [
    "df_Interest = df_Interest.rename(columns={'0':'Interest'})\n",
    "Int = df_Interest.value_counts()\n",
    "\n",
    "Int"
   ]
  },
  {
   "cell_type": "markdown",
   "id": "92ed1edf",
   "metadata": {
    "papermill": {
     "duration": 0.016577,
     "end_time": "2023-07-12T09:33:51.747781",
     "exception": false,
     "start_time": "2023-07-12T09:33:51.731204",
     "status": "completed"
    },
    "tags": []
   },
   "source": [
    "# Exploratory Analysis"
   ]
  },
  {
   "cell_type": "code",
   "execution_count": 37,
   "id": "68d92ecd",
   "metadata": {
    "execution": {
     "iopub.execute_input": "2023-07-12T09:33:51.781795Z",
     "iopub.status.busy": "2023-07-12T09:33:51.781356Z",
     "iopub.status.idle": "2023-07-12T09:33:51.797156Z",
     "shell.execute_reply": "2023-07-12T09:33:51.795849Z"
    },
    "papermill": {
     "duration": 0.035604,
     "end_time": "2023-07-12T09:33:51.799281",
     "exception": false,
     "start_time": "2023-07-12T09:33:51.763677",
     "status": "completed"
    },
    "tags": []
   },
   "outputs": [
    {
     "data": {
      "text/html": [
       "<div>\n",
       "<style scoped>\n",
       "    .dataframe tbody tr th:only-of-type {\n",
       "        vertical-align: middle;\n",
       "    }\n",
       "\n",
       "    .dataframe tbody tr th {\n",
       "        vertical-align: top;\n",
       "    }\n",
       "\n",
       "    .dataframe thead th {\n",
       "        text-align: right;\n",
       "    }\n",
       "</style>\n",
       "<table border=\"1\" class=\"dataframe\">\n",
       "  <thead>\n",
       "    <tr style=\"text-align: right;\">\n",
       "      <th></th>\n",
       "      <th>teacher_name</th>\n",
       "      <th>university_currently_teaching</th>\n",
       "      <th>department</th>\n",
       "      <th>province_university_located</th>\n",
       "      <th>designation</th>\n",
       "      <th>degree</th>\n",
       "      <th>graduated</th>\n",
       "      <th>country</th>\n",
       "      <th>year</th>\n",
       "      <th>specialization</th>\n",
       "    </tr>\n",
       "  </thead>\n",
       "  <tbody>\n",
       "    <tr>\n",
       "      <th>0</th>\n",
       "      <td>Dr. Ihsan Ullah</td>\n",
       "      <td>university of balochistan</td>\n",
       "      <td>Computer Science &amp; IT</td>\n",
       "      <td>Balochistan</td>\n",
       "      <td>Assistant Professor</td>\n",
       "      <td>Phd</td>\n",
       "      <td>NaN</td>\n",
       "      <td>France</td>\n",
       "      <td>NaN</td>\n",
       "      <td>P2P Networks, Telecommunication Systems</td>\n",
       "    </tr>\n",
       "    <tr>\n",
       "      <th>1</th>\n",
       "      <td>Dr. Atiq Ahmed</td>\n",
       "      <td>university of balochistan</td>\n",
       "      <td>Computer Science &amp; IT</td>\n",
       "      <td>Balochistan</td>\n",
       "      <td>Associate Professor</td>\n",
       "      <td>Phd</td>\n",
       "      <td>NaN</td>\n",
       "      <td>France</td>\n",
       "      <td>NaN</td>\n",
       "      <td>Wireless Networks, Telecommunication Systems, ...</td>\n",
       "    </tr>\n",
       "    <tr>\n",
       "      <th>2</th>\n",
       "      <td>Dr. Abdul Basit</td>\n",
       "      <td>university of balochistan</td>\n",
       "      <td>Computer Science &amp; IT</td>\n",
       "      <td>Balochistan</td>\n",
       "      <td>Assistant Professor</td>\n",
       "      <td>Phd</td>\n",
       "      <td>Asian Institute of Technology</td>\n",
       "      <td>Thailand</td>\n",
       "      <td>NaN</td>\n",
       "      <td>Software Engineering &amp; DBMS</td>\n",
       "    </tr>\n",
       "    <tr>\n",
       "      <th>3</th>\n",
       "      <td>Mr. Muhammad Khalid Badini</td>\n",
       "      <td>university of balochistan</td>\n",
       "      <td>Computer Science &amp; IT</td>\n",
       "      <td>Balochistan</td>\n",
       "      <td>Assistant Professor</td>\n",
       "      <td>MS</td>\n",
       "      <td>NaN</td>\n",
       "      <td>NaN</td>\n",
       "      <td>NaN</td>\n",
       "      <td>Operating System &amp; DBMS</td>\n",
       "    </tr>\n",
       "    <tr>\n",
       "      <th>4</th>\n",
       "      <td>Dr. Waheed Noor</td>\n",
       "      <td>university of balochistan</td>\n",
       "      <td>Computer Science &amp; IT</td>\n",
       "      <td>Balochistan</td>\n",
       "      <td>Assistant Professor</td>\n",
       "      <td>Phd</td>\n",
       "      <td>Asian Institute of Technology</td>\n",
       "      <td>Thailand</td>\n",
       "      <td>NaN</td>\n",
       "      <td>DBMS</td>\n",
       "    </tr>\n",
       "  </tbody>\n",
       "</table>\n",
       "</div>"
      ],
      "text/plain": [
       "                 teacher_name university_currently_teaching  \\\n",
       "0             Dr. Ihsan Ullah     university of balochistan   \n",
       "1              Dr. Atiq Ahmed     university of balochistan   \n",
       "2             Dr. Abdul Basit     university of balochistan   \n",
       "3  Mr. Muhammad Khalid Badini     university of balochistan   \n",
       "4             Dr. Waheed Noor     university of balochistan   \n",
       "\n",
       "              department province_university_located          designation  \\\n",
       "0  Computer Science & IT                 Balochistan  Assistant Professor   \n",
       "1  Computer Science & IT                 Balochistan  Associate Professor   \n",
       "2  Computer Science & IT                 Balochistan  Assistant Professor   \n",
       "3  Computer Science & IT                 Balochistan  Assistant Professor   \n",
       "4  Computer Science & IT                 Balochistan  Assistant Professor   \n",
       "\n",
       "  degree                      graduated   country  year  \\\n",
       "0    Phd                            NaN    France   NaN   \n",
       "1    Phd                            NaN    France   NaN   \n",
       "2    Phd  Asian Institute of Technology  Thailand   NaN   \n",
       "3     MS                            NaN       NaN   NaN   \n",
       "4    Phd  Asian Institute of Technology  Thailand   NaN   \n",
       "\n",
       "                                      specialization  \n",
       "0            P2P Networks, Telecommunication Systems  \n",
       "1  Wireless Networks, Telecommunication Systems, ...  \n",
       "2                        Software Engineering & DBMS  \n",
       "3                            Operating System & DBMS  \n",
       "4                                               DBMS  "
      ]
     },
     "execution_count": 37,
     "metadata": {},
     "output_type": "execute_result"
    }
   ],
   "source": [
    "df.head(5)"
   ]
  },
  {
   "cell_type": "markdown",
   "id": "458618e4",
   "metadata": {
    "papermill": {
     "duration": 0.015787,
     "end_time": "2023-07-12T09:33:51.831121",
     "exception": false,
     "start_time": "2023-07-12T09:33:51.815334",
     "status": "completed"
    },
    "tags": []
   },
   "source": [
    "**Phd, MSc and BSc in provinces**"
   ]
  },
  {
   "cell_type": "code",
   "execution_count": 38,
   "id": "44ba13c5",
   "metadata": {
    "execution": {
     "iopub.execute_input": "2023-07-12T09:33:51.866193Z",
     "iopub.status.busy": "2023-07-12T09:33:51.865673Z",
     "iopub.status.idle": "2023-07-12T09:33:52.717428Z",
     "shell.execute_reply": "2023-07-12T09:33:52.716034Z"
    },
    "papermill": {
     "duration": 0.873022,
     "end_time": "2023-07-12T09:33:52.720143",
     "exception": false,
     "start_time": "2023-07-12T09:33:51.847121",
     "status": "completed"
    },
    "tags": []
   },
   "outputs": [
    {
     "data": {
      "text/plain": [
       "<Axes: title={'center': 'No of BSs as per provinces'}, xlabel='Provinces', ylabel='Noof BSc'>"
      ]
     },
     "execution_count": 38,
     "metadata": {},
     "output_type": "execute_result"
    },
    {
     "data": {
      "image/png": "[encoded data removed]",
      "text/plain": [
       "<Figure size 2000x500 with 3 Axes>"
      ]
     },
     "metadata": {},
     "output_type": "display_data"
    }
   ],
   "source": [
    "plt.figure(figsize=(20,5))\n",
    "\n",
    "#Phd in provinces\n",
    "plt.subplot(1,3,1)\n",
    "plt.title('No of Drs as per provinces')\n",
    "plt.xlabel('Provinces')\n",
    "plt.ylabel('No of Phds')\n",
    "df[df['degree']=='Phd']['province_university_located'].value_counts().plot.bar()\n",
    "\n",
    "#MSc in provinces\n",
    "plt.subplot(1,3,2)\n",
    "plt.title('No of MSs as per provinces')\n",
    "plt.xlabel('Provinces')\n",
    "plt.ylabel('No of MSc')\n",
    "df[df['degree']=='MSc']['province_university_located'].value_counts().plot.bar()\n",
    "\n",
    "#BSc in provinces\n",
    "plt.subplot(1,3,3)\n",
    "plt.title('No of BSs as per provinces')\n",
    "plt.xlabel('Provinces')\n",
    "plt.ylabel('Noof BSc')\n",
    "df[df['degree']=='BSc']['province_university_located'].value_counts().plot.bar()"
   ]
  },
  {
   "cell_type": "markdown",
   "id": "8fe1a876",
   "metadata": {
    "papermill": {
     "duration": 0.017236,
     "end_time": "2023-07-12T09:33:52.754667",
     "exception": false,
     "start_time": "2023-07-12T09:33:52.737431",
     "status": "completed"
    },
    "tags": []
   },
   "source": [
    "**Designations as per universities**"
   ]
  },
  {
   "cell_type": "code",
   "execution_count": 39,
   "id": "259cf8dc",
   "metadata": {
    "execution": {
     "iopub.execute_input": "2023-07-12T09:33:52.790401Z",
     "iopub.status.busy": "2023-07-12T09:33:52.790023Z",
     "iopub.status.idle": "2023-07-12T09:33:52.798846Z",
     "shell.execute_reply": "2023-07-12T09:33:52.798082Z"
    },
    "papermill": {
     "duration": 0.02945,
     "end_time": "2023-07-12T09:33:52.801103",
     "exception": false,
     "start_time": "2023-07-12T09:33:52.771653",
     "status": "completed"
    },
    "tags": []
   },
   "outputs": [
    {
     "data": {
      "text/plain": [
       "Lecturer               783\n",
       "Assistant Professor    705\n",
       "Associate Professor    128\n",
       "Professor               46\n",
       "Tutor/Instructor        46\n",
       "Senior Lecturer         25\n",
       "Name: designation, dtype: int64"
      ]
     },
     "execution_count": 39,
     "metadata": {},
     "output_type": "execute_result"
    }
   ],
   "source": [
    "df.designation.value_counts().head(6)"
   ]
  },
  {
   "cell_type": "code",
   "execution_count": 40,
   "id": "8f3d28e4",
   "metadata": {
    "execution": {
     "iopub.execute_input": "2023-07-12T09:33:52.838789Z",
     "iopub.status.busy": "2023-07-12T09:33:52.837837Z",
     "iopub.status.idle": "2023-07-12T09:33:52.845540Z",
     "shell.execute_reply": "2023-07-12T09:33:52.844427Z"
    },
    "papermill": {
     "duration": 0.029524,
     "end_time": "2023-07-12T09:33:52.848117",
     "exception": false,
     "start_time": "2023-07-12T09:33:52.818593",
     "status": "completed"
    },
    "tags": []
   },
   "outputs": [
    {
     "data": {
      "text/plain": [
       "63"
      ]
     },
     "execution_count": 40,
     "metadata": {},
     "output_type": "execute_result"
    }
   ],
   "source": [
    "df.designation.nunique()"
   ]
  },
  {
   "cell_type": "code",
   "execution_count": 41,
   "id": "10ad233a",
   "metadata": {
    "execution": {
     "iopub.execute_input": "2023-07-12T09:33:52.887213Z",
     "iopub.status.busy": "2023-07-12T09:33:52.886500Z",
     "iopub.status.idle": "2023-07-12T09:33:55.761805Z",
     "shell.execute_reply": "2023-07-12T09:33:55.760877Z"
    },
    "papermill": {
     "duration": 2.900361,
     "end_time": "2023-07-12T09:33:55.767105",
     "exception": false,
     "start_time": "2023-07-12T09:33:52.866744",
     "status": "completed"
    },
    "tags": []
   },
   "outputs": [
    {
     "data": {
      "text/plain": [
       "<Axes: title={'center': 'Senior Lecturer in Universities'}, xlabel='University name', ylabel='No. of Senior Lecturer'>"
      ]
     },
     "execution_count": 41,
     "metadata": {},
     "output_type": "execute_result"
    },
    {
     "data": {
      "image/png": "[encoded data removed]",
      "text/plain": [
       "<Figure size 6000x3000 with 6 Axes>"
      ]
     },
     "metadata": {},
     "output_type": "display_data"
    }
   ],
   "source": [
    "plt.figure(figsize=(60,30))\n",
    "\n",
    "#No of Lecturers in univesities\n",
    "plt.subplot(2,3,1)\n",
    "plt.title('Lacturers in Universities')\n",
    "plt.xlabel('University name')\n",
    "plt.ylabel('No. of lecturers')\n",
    "df[df['designation']=='Lecturer']['university_currently_teaching'].value_counts().head(10).plot.bar()\n",
    "\n",
    "#No of Assistant Professor in univesities\n",
    "plt.subplot(2,3,2)\n",
    "plt.title('Assistant Professor in Universities')\n",
    "plt.xlabel('University name')\n",
    "plt.ylabel('No. of Assistant Professor')\n",
    "df[df['designation']=='Assistant Professor']['university_currently_teaching'].value_counts().head(10).plot.bar()\n",
    "\n",
    "#No of Associate Professor in univesities\n",
    "plt.subplot(2,3,3)\n",
    "plt.title('Associate Professor in Universities')\n",
    "plt.xlabel('University name')\n",
    "plt.ylabel('No. of Associate Professor')\n",
    "df[df['designation']=='Associate Professor']['university_currently_teaching'].value_counts().head(10).plot.bar()\n",
    "\n",
    "#No of Professor in univesities\n",
    "plt.subplot(2,3,4)\n",
    "plt.title('Professor in Universities')\n",
    "plt.xlabel('University name')\n",
    "plt.ylabel('No. of Professor')\n",
    "df[df['designation']=='Professor']['university_currently_teaching'].value_counts().head(10).plot.bar()\n",
    "\n",
    "#No of Professor in univesities\n",
    "plt.subplot(2,3,5)\n",
    "plt.title('Tutor/Instructor in Universities')\n",
    "plt.xlabel('University name')\n",
    "plt.ylabel('No. of Tutor/Instructor')\n",
    "df[df['designation']=='Tutor/Instructor']['university_currently_teaching'].value_counts().head(10).plot.bar()\n",
    "\n",
    "#No of Senior Lecturer in univesities\n",
    "plt.subplot(2,3,6)\n",
    "plt.title('Senior Lecturer in Universities')\n",
    "plt.xlabel('University name')\n",
    "plt.ylabel('No. of Senior Lecturer')\n",
    "df[df['designation']=='Senior Lecturer']['university_currently_teaching'].value_counts().head(10).plot.bar()"
   ]
  },
  {
   "cell_type": "markdown",
   "id": "f3a90d7b",
   "metadata": {
    "papermill": {
     "duration": 0.021723,
     "end_time": "2023-07-12T09:33:55.811249",
     "exception": false,
     "start_time": "2023-07-12T09:33:55.789526",
     "status": "completed"
    },
    "tags": []
   },
   "source": [
    "# Pakistan's province percentage"
   ]
  },
  {
   "cell_type": "code",
   "execution_count": 42,
   "id": "63911b8b",
   "metadata": {
    "execution": {
     "iopub.execute_input": "2023-07-12T09:33:55.856804Z",
     "iopub.status.busy": "2023-07-12T09:33:55.855836Z",
     "iopub.status.idle": "2023-07-12T09:33:56.032100Z",
     "shell.execute_reply": "2023-07-12T09:33:56.030863Z"
    },
    "papermill": {
     "duration": 0.202636,
     "end_time": "2023-07-12T09:33:56.035518",
     "exception": false,
     "start_time": "2023-07-12T09:33:55.832882",
     "status": "completed"
    },
    "tags": []
   },
   "outputs": [
    {
     "data": {
      "text/plain": [
       "Text(0.5, 1.0, 'Universities percentage reagarding provinces')"
      ]
     },
     "execution_count": 42,
     "metadata": {},
     "output_type": "execute_result"
    },
    {
     "data": {
      "image/png": "[encoded data removed]",
      "text/plain": [
       "<Figure size 2000x500 with 1 Axes>"
      ]
     },
     "metadata": {},
     "output_type": "display_data"
    }
   ],
   "source": [
    "prov_per = df['province_university_located'].value_counts()\n",
    "prov_per_index = prov_per.index\n",
    "explode = (0.1,0.125,0.1,0.125,0.1)\n",
    "plt.figure(figsize=(20,5))\n",
    "\n",
    "plt.pie(prov_per.values,autopct='%1.1f%%',radius=1.2,startangle=45,pctdistance=0.5,labels=prov_per_index,explode=explode)\n",
    "plt.title('Universities percentage reagarding provinces')"
   ]
  },
  {
   "cell_type": "code",
   "execution_count": null,
   "id": "2b548365",
   "metadata": {
    "papermill": {
     "duration": 0.033499,
     "end_time": "2023-07-12T09:33:56.108525",
     "exception": false,
     "start_time": "2023-07-12T09:33:56.075026",
     "status": "completed"
    },
    "tags": []
   },
   "outputs": [],
   "source": []
  }
 ],
 "metadata": {
  "kernelspec": {
   "display_name": "Python 3",
   "language": "python",
   "name": "python3"
  },
  "language_info": {
   "codemirror_mode": {
    "name": "ipython",
    "version": 3
   },
   "file_extension": ".py",
   "mimetype": "text/x-python",
   "name": "python",
   "nbconvert_exporter": "python",
   "pygments_lexer": "ipython3",
   "version": "3.10.10"
  },
  "papermill": {
   "default_parameters": {},
   "duration": 21.37423,
   "end_time": "2023-07-12T09:33:57.255834",
   "environment_variables": {},
   "exception": null,
   "input_path": "__notebook__.ipynb",
   "output_path": "__notebook__.ipynb",
   "parameters": {},
   "start_time": "2023-07-12T09:33:35.881604",
   "version": "2.4.0"
  }
 },
 "nbformat": 4,
 "nbformat_minor": 5
}
